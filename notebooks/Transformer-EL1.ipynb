{
 "cells": [
  {
   "cell_type": "code",
   "execution_count": 1,
   "metadata": {
    "executionInfo": {
     "elapsed": 3312,
     "status": "ok",
     "timestamp": 1638277988055,
     "user": {
      "displayName": "Etienne Lechat",
      "photoUrl": "https://lh3.googleusercontent.com/a-/AOh14GgmoGdW53wykADrW_17_vgxv_ArgNO41B2IK4EoMA=s64",
      "userId": "01017481021905327795"
     },
     "user_tz": -60
    },
    "id": "tAQZRH2U-VlI"
   },
   "outputs": [],
   "source": [
    "import tensorflow as tf\n",
    "import numpy as np\n",
    "import matplotlib.pyplot as plt\n",
    "import time\n",
    "import random"
   ]
  },
  {
   "cell_type": "code",
   "execution_count": 2,
   "metadata": {
    "colab": {
     "base_uri": "https://localhost:8080/"
    },
    "executionInfo": {
     "elapsed": 20381,
     "status": "ok",
     "timestamp": 1638278085532,
     "user": {
      "displayName": "Etienne Lechat",
      "photoUrl": "https://lh3.googleusercontent.com/a-/AOh14GgmoGdW53wykADrW_17_vgxv_ArgNO41B2IK4EoMA=s64",
      "userId": "01017481021905327795"
     },
     "user_tz": -60
    },
    "id": "unYkOjWa-ynS",
    "outputId": "087e9a3d-b1be-4acc-9179-fbc8ddbb3cf3"
   },
   "outputs": [],
   "source": [
    "X_train=np.load(\"../data/X_train.npy\")\n",
    "y_train=np.load(\"../data/y_train.npy\")\n",
    "\n",
    "X_val=np.load(\"../data/X_val.npy\")\n",
    "y_val=np.load(\"../data/y_val.npy\")\n",
    "\n",
    "X_test=np.load(\"../data/X_test.npy\")\n",
    "y_test=np.load(\"../data/y_test.npy\")"
   ]
  },
  {
   "cell_type": "code",
   "execution_count": 3,
   "metadata": {
    "colab": {
     "base_uri": "https://localhost:8080/"
    },
    "executionInfo": {
     "elapsed": 256,
     "status": "ok",
     "timestamp": 1638278297512,
     "user": {
      "displayName": "Etienne Lechat",
      "photoUrl": "https://lh3.googleusercontent.com/a-/AOh14GgmoGdW53wykADrW_17_vgxv_ArgNO41B2IK4EoMA=s64",
      "userId": "01017481021905327795"
     },
     "user_tz": -60
    },
    "id": "VEbc36HW-9k6",
    "outputId": "5232a9c5-e7bf-401e-9b71-9d6f0d899fe9"
   },
   "outputs": [],
   "source": [
    "X = np.concatenate((X_train, X_val, X_test), axis = 0)\n",
    "y = np.concatenate((y_train, y_val, y_test), axis = 0)"
   ]
  },
  {
   "cell_type": "code",
   "execution_count": 98,
   "metadata": {},
   "outputs": [],
   "source": [
    "Xbeatles = np.load('../data/X_Beatles.npy')[0]"
   ]
  },
  {
   "cell_type": "code",
   "execution_count": 105,
   "metadata": {
    "scrolled": false
   },
   "outputs": [
    {
     "data": {
      "text/plain": [
       "<matplotlib.image.AxesImage at 0x7f0309105b70>"
      ]
     },
     "execution_count": 105,
     "metadata": {},
     "output_type": "execute_result"
    },
    {
     "data": {
      "image/png": "[encoded data removed]",
      "text/plain": [
       "<Figure size 432x288 with 1 Axes>"
      ]
     },
     "metadata": {
      "image/png": {
       "height": 250,
       "width": 251
      },
      "needs_background": "light"
     },
     "output_type": "display_data"
    }
   ],
   "source": [
    "plt.imshow(Xbeat)"
   ]
  },
  {
   "cell_type": "code",
   "execution_count": 109,
   "metadata": {},
   "outputs": [
    {
     "data": {
      "text/plain": [
       "(64, 64)"
      ]
     },
     "execution_count": 109,
     "metadata": {},
     "output_type": "execute_result"
    }
   ],
   "source": [
    "Xbeat.shape"
   ]
  },
  {
   "cell_type": "code",
   "execution_count": 104,
   "metadata": {},
   "outputs": [],
   "source": [
    "Xbeat = Xbeatles[:, 5:69]"
   ]
  },
  {
   "cell_type": "code",
   "execution_count": 5,
   "metadata": {},
   "outputs": [
    {
     "data": {
      "text/plain": [
       "<matplotlib.image.AxesImage at 0x7f04c8bbfe10>"
      ]
     },
     "execution_count": 5,
     "metadata": {},
     "output_type": "execute_result"
    },
    {
     "data": {
      "image/png": "[encoded data removed]",
      "text/plain": [
       "<Figure size 432x288 with 1 Axes>"
      ]
     },
     "metadata": {
      "needs_background": "light"
     },
     "output_type": "display_data"
    }
   ],
   "source": [
    "Xa = X[ : , : , 12:67 ]\n",
    "plt.imshow(np.sum(Xa, axis= 0)>0)"
   ]
  },
  {
   "cell_type": "code",
   "execution_count": 6,
   "metadata": {
    "colab": {
     "base_uri": "https://localhost:8080/"
    },
    "executionInfo": {
     "elapsed": 229,
     "status": "ok",
     "timestamp": 1638278262652,
     "user": {
      "displayName": "Etienne Lechat",
      "photoUrl": "https://lh3.googleusercontent.com/a-/AOh14GgmoGdW53wykADrW_17_vgxv_ArgNO41B2IK4EoMA=s64",
      "userId": "01017481021905327795"
     },
     "user_tz": -60
    },
    "id": "lnraR3gT_gKw",
    "outputId": "a733f4b4-5176-43b4-ed6c-c4b5f4c89999",
    "scrolled": true
   },
   "outputs": [
    {
     "data": {
      "text/plain": [
       "(8544, 64, 64)"
      ]
     },
     "execution_count": 6,
     "metadata": {},
     "output_type": "execute_result"
    },
    {
     "data": {
      "image/png": "[encoded data removed]",
      "text/plain": [
       "<Figure size 432x288 with 1 Axes>"
      ]
     },
     "metadata": {
      "needs_background": "light"
     },
     "output_type": "display_data"
    }
   ],
   "source": [
    "Xtrunc = X[ : , : , 10:74 ]\n",
    "plt.imshow(np.sum(Xtrunc, axis= 0)>0)\n",
    "Xtrunc.shape"
   ]
  },
  {
   "cell_type": "code",
   "execution_count": 7,
   "metadata": {
    "executionInfo": {
     "elapsed": 11244,
     "status": "ok",
     "timestamp": 1638278172083,
     "user": {
      "displayName": "Etienne Lechat",
      "photoUrl": "https://lh3.googleusercontent.com/a-/AOh14GgmoGdW53wykADrW_17_vgxv_ArgNO41B2IK4EoMA=s64",
      "userId": "01017481021905327795"
     },
     "user_tz": -60
    },
    "id": "-qS3OWN7_GAQ"
   },
   "outputs": [
    {
     "data": {
      "text/plain": [
       "(8544, 16, 64)"
      ]
     },
     "execution_count": 7,
     "metadata": {},
     "output_type": "execute_result"
    }
   ],
   "source": [
    "ytrunc = y[: , : , 10:74]\n",
    "ytrunc.shape"
   ]
  },
  {
   "cell_type": "markdown",
   "metadata": {
    "id": "1TBl1Hut-VlL"
   },
   "source": [
    "\n",
    "### Multi-head attention"
   ]
  },
  {
   "cell_type": "code",
   "execution_count": 8,
   "metadata": {
    "executionInfo": {
     "elapsed": 288,
     "status": "ok",
     "timestamp": 1638278301533,
     "user": {
      "displayName": "Etienne Lechat",
      "photoUrl": "https://lh3.googleusercontent.com/a-/AOh14GgmoGdW53wykADrW_17_vgxv_ArgNO41B2IK4EoMA=s64",
      "userId": "01017481021905327795"
     },
     "user_tz": -60
    },
    "id": "s6pTB6EO-VlN"
   },
   "outputs": [],
   "source": [
    "def scaled_dot_product_attention(q, k, v, mask):\n",
    "    \"\"\"\n",
    "Calculate the attention weights.\n",
    "    q, k, v must have matching leading dimensions ----> dimension of vector representation.\n",
    "    DEGREES OF LIBERTY OF THE MODEL -----> the parameters of the q matrix (q for 'query')\n",
    "    k, v must have matching penultimate dimension, i.e.: seq_len_k = seq_len_v -----> \"length\" of the input if length q diff (shorter) from k/v: you will \n",
    "    consider only the q first notes (vectors)\n",
    "    The mask has different shapes depending on its type(padding or look ahead) -----> if you want to consider some of the data only\n",
    "    but it must be broadcastable for addition (maybe not that useful in our case)\n",
    "\n",
    "Args:\n",
    "    q: query shape == (..., seq_len_q, depth)\n",
    "    k: key shape == (..., seq_len_k, depth)\n",
    "    v: value shape == (..., seq_len_v, depth_v)\n",
    "    mask: Float tensor with shape broadcastable\n",
    "          to (..., seq_len_q, seq_len_k). Defaults to None.\n",
    "\n",
    "Returns\n",
    "    output : a representation of the vectors weighted appropriately\n",
    "    attention_weights : the sofmaxed products of qk: represents the \"weights\" that will be attributed to each feature of v.\n",
    "  \"\"\"\n",
    "    matmul_qk = tf.matmul(q, k, transpose_b=True)  # (..., seq_len_q, seq_len_k)\n",
    "\n",
    "      # scale matmul_qk\n",
    "    dk = tf.cast(tf.shape(k)[-1], tf.float32)\n",
    "    scaled_attention_logits = matmul_qk / tf.math.sqrt(dk)\n",
    "\n",
    "      # add the mask to the scaled tensor.\n",
    "    if mask is not None:\n",
    "        scaled_attention_logits += (mask * -1e9) #large negative values ensure that the gradient stays shit(~zero)\n",
    "\n",
    "      # softmax is normalized on the last axis (seq_len_k) so that the scores\n",
    "      # add up to 1.\n",
    "    attention_weights = tf.nn.softmax(scaled_attention_logits, axis=-1)  # (..., seq_len_q, seq_len_k)\n",
    "    output = tf.matmul(attention_weights, v)  # (..., seq_len_q, depth_v)\n",
    "\n",
    "    return output, attention_weights"
   ]
  },
  {
   "cell_type": "code",
   "execution_count": 9,
   "metadata": {
    "executionInfo": {
     "elapsed": 267,
     "status": "ok",
     "timestamp": 1638278304314,
     "user": {
      "displayName": "Etienne Lechat",
      "photoUrl": "https://lh3.googleusercontent.com/a-/AOh14GgmoGdW53wykADrW_17_vgxv_ArgNO41B2IK4EoMA=s64",
      "userId": "01017481021905327795"
     },
     "user_tz": -60
    },
    "id": "7556b_D7-VlP"
   },
   "outputs": [],
   "source": [
    "class MultiHeadAttention(tf.keras.layers.Layer):\n",
    "    '''\n",
    "    Multihead attention is just attention applied to a linear combo of the depths:\n",
    "    the output is then the same linear combo of outputs. \n",
    "    The goal is then to reduce this d_model by 'packing' dimensions together. \n",
    "    We perform uniform separation ('batches' of dimensions have the same size,\n",
    "    which is called `num_heads` below), then get the final output by concatenation.\n",
    "    DEGREES OF LIBERTY: parameters of the linear combo\n",
    "    '''\n",
    "    def __init__(self, d_model, num_heads):\n",
    "        super(MultiHeadAttention, self).__init__()\n",
    "        self.num_heads = num_heads\n",
    "        self.d_model = d_model\n",
    "\n",
    "        assert d_model % self.num_heads == 0\n",
    "\n",
    "        self.depth = d_model // self.num_heads\n",
    "\n",
    "        self.wq = tf.keras.layers.Dense(d_model)\n",
    "        self.wk = tf.keras.layers.Dense(d_model)\n",
    "        self.wv = tf.keras.layers.Dense(d_model) #The goal here is to create linear combo of the features\n",
    "\n",
    "        self.dense = tf.keras.layers.Dense(d_model)\n",
    "\n",
    "    def split_heads(self, x, batch_size):\n",
    "        \"\"\"Split the last dimension into (num_heads, depth).\n",
    "        Transpose the result such that the shape is (batch_size, num_heads, seq_len, depth)\n",
    "        batch_size: first dim (the range of notes) can also be split as we saw during lectures\n",
    "        \"\"\"\n",
    "        x = tf.reshape(x, (batch_size, -1, self.num_heads, self.depth))\n",
    "        return tf.transpose(x, perm=[0, 2, 1, 3])\n",
    "\n",
    "    def call(self, q, k, v, mask):\n",
    "        batch_size = tf.shape(q)[0] # the batch size is indeed the shape of the q, which is the 'lookup' function\n",
    "\n",
    "        q = self.wq(q)  # (batch_size, seq_len_q, d_model)\n",
    "        k = self.wk(k)  # (batch_size, seq_len_k, d_model)\n",
    "        v = self.wv(v)  # (batch_size, seq_len_v, d_model)\n",
    "\n",
    "        q = self.split_heads(q, batch_size)  # (batch_size, num_heads, seq_len_q, depth)\n",
    "        k = self.split_heads(k, batch_size)  # (batch_size, num_heads, seq_len_k, depth)\n",
    "        v = self.split_heads(v, batch_size)  # (batch_size, num_heads, seq_len_v, depth)\n",
    "\n",
    "        # scaled_attention.shape == (batch_size, num_heads, seq_len_q, depth)\n",
    "        # attention_weights.shape == (batch_size, num_heads, seq_len_q, seq_len_k)\n",
    "        scaled_attention, attention_weights = scaled_dot_product_attention(\n",
    "            q, k, v, mask)\n",
    "\n",
    "        scaled_attention = tf.transpose(scaled_attention, perm=[0, 2, 1, 3])  # (batch_size, seq_len_q, num_heads, depth)\n",
    "\n",
    "        concat_attention = tf.reshape(scaled_attention,\n",
    "                                      (batch_size, -1, self.d_model))  # (batch_size, seq_len_q, d_model)\n",
    "\n",
    "        output = self.dense(concat_attention)  # (batch_size, seq_len_q, d_model)\n",
    "\n",
    "        return output, attention_weights"
   ]
  },
  {
   "cell_type": "markdown",
   "metadata": {
    "id": "oSc7fwVO-VlQ"
   },
   "source": [
    "### Feed Fwd netword"
   ]
  },
  {
   "cell_type": "code",
   "execution_count": 10,
   "metadata": {
    "executionInfo": {
     "elapsed": 238,
     "status": "ok",
     "timestamp": 1638278308764,
     "user": {
      "displayName": "Etienne Lechat",
      "photoUrl": "https://lh3.googleusercontent.com/a-/AOh14GgmoGdW53wykADrW_17_vgxv_ArgNO41B2IK4EoMA=s64",
      "userId": "01017481021905327795"
     },
     "user_tz": -60
    },
    "id": "b2c7Ggrm-VlR"
   },
   "outputs": [],
   "source": [
    "def point_wise_feed_forward_network(d_model, dff):\n",
    "    return tf.keras.Sequential([\n",
    "      tf.keras.layers.Dense(dff, activation='relu'),  # (batch_size, seq_len, dff)\n",
    "      tf.keras.layers.Dense(d_model)  # (batch_size, seq_len, d_model)\n",
    "  ])"
   ]
  },
  {
   "cell_type": "markdown",
   "metadata": {
    "id": "9uM1wzdR-VlR"
   },
   "source": [
    "### Masks"
   ]
  },
  {
   "cell_type": "markdown",
   "metadata": {},
   "source": [
    "#### Padding mask"
   ]
  },
  {
   "cell_type": "code",
   "execution_count": 11,
   "metadata": {},
   "outputs": [],
   "source": [
    "def spot_zerovectors(music_input, num_heads):\n",
    "    \n",
    "    batch_s_ = music_input.shape[0]\n",
    "    input_length = music_input.shape[1]\n",
    "    \n",
    "    input_split = tf.reshape(music_input, (batch_s_, input_length, num_heads, -1))\n",
    "    input_split = tf.transpose(input_split, perm=[0, 2, 1, 3]) #(batch_size, num_heads, seq_length, depth)\n",
    "    bool_matrix = tf.math.equal(input_split, 0)\n",
    "    zerovectors = tf.cast(tf.reduce_all(bool_matrix, axis=-1), dtype='float') #(batch_size, num_heads, seq_length)\n",
    "    return zerovectors"
   ]
  },
  {
   "cell_type": "code",
   "execution_count": 12,
   "metadata": {},
   "outputs": [
    {
     "data": {
      "text/plain": [
       "TensorShape([10, 8, 64])"
      ]
     },
     "execution_count": 12,
     "metadata": {},
     "output_type": "execute_result"
    }
   ],
   "source": [
    "spot_zerovectors(Xtrunc[0:10], 8).shape"
   ]
  },
  {
   "cell_type": "code",
   "execution_count": 13,
   "metadata": {},
   "outputs": [],
   "source": [
    "'''\n",
    "Mask all the pad tokens in the batch of sequence. \n",
    "It ensures that the model does not treat padding as the input. \n",
    "The mask indicates where pad value 0 is present: \n",
    "it outputs a 1 at those locations, and a 0 otherwise.\n",
    "'''\n",
    "def create_padding_mask(music_input, music_output, num_heads): #ignore all zeros vectors \n",
    "   \n",
    "    zero_vectors = spot_zerovectors(music_input, num_heads)\n",
    "    output_length = music_output.shape[1]\n",
    "    \n",
    "    return tf.repeat(zero_vectors[:, :, tf.newaxis, :], output_length, axis=-2) #(batch_size, num_heads, tar_seq_length, inp_seq_length)"
   ]
  },
  {
   "cell_type": "code",
   "execution_count": 14,
   "metadata": {},
   "outputs": [
    {
     "data": {
      "text/plain": [
       "TensorShape([10, 8, 64, 64])"
      ]
     },
     "execution_count": 14,
     "metadata": {},
     "output_type": "execute_result"
    }
   ],
   "source": [
    "create_padding_mask(Xtrunc[0:10], Xtrunc[0:10], 8).shape"
   ]
  },
  {
   "cell_type": "markdown",
   "metadata": {},
   "source": [
    "#### Look-ahead mask"
   ]
  },
  {
   "cell_type": "code",
   "execution_count": 15,
   "metadata": {
    "executionInfo": {
     "elapsed": 219,
     "status": "ok",
     "timestamp": 1638278310924,
     "user": {
      "displayName": "Etienne Lechat",
      "photoUrl": "https://lh3.googleusercontent.com/a-/AOh14GgmoGdW53wykADrW_17_vgxv_ArgNO41B2IK4EoMA=s64",
      "userId": "01017481021905327795"
     },
     "user_tz": -60
    },
    "id": "XC0Jm3KW-VlS"
   },
   "outputs": [],
   "source": [
    "'''\n",
    "The look-ahead mask is used to mask the future tokens in a sequence. \n",
    "In other words, the mask indicates which entries should not be used.\n",
    "\n",
    "This means that to predict the third token, only the \n",
    "first and second token will be used. Similarly to predict the fourth token, only the first, second and the third tokens will be used and so on.\n",
    "'''\n",
    "\n",
    "def create_look_ahead_mask(batch_size, size, num_heads):\n",
    "    '''\n",
    "    Consider only the notes before the one considered\n",
    "    '''    \n",
    "   \n",
    "    mask = 1 - tf.linalg.band_part(tf.ones((size, size)), -1, 0)\n",
    "    mask = tf.repeat(mask[tf.newaxis, :, :], num_heads, axis=0) \n",
    "    return tf.repeat(mask[tf.newaxis, :, :, :], batch_size, axis=0)# (batch_size, num_heads, seq_len, seq_len)"
   ]
  },
  {
   "cell_type": "markdown",
   "metadata": {},
   "source": [
    "#### Self-attention decoder mask"
   ]
  },
  {
   "cell_type": "code",
   "execution_count": 16,
   "metadata": {},
   "outputs": [],
   "source": [
    "def self_attention_decoder_mask(music_input, num_heads):\n",
    "    \n",
    "    padding_mask = create_padding_mask(music_input, music_input, num_heads)\n",
    "    \n",
    "    size = music_input.shape[1] \n",
    "    batch_s = music_input.shape[0]\n",
    "    \n",
    "    look_ahead_mask = create_look_ahead_mask(batch_s, size, num_heads)\n",
    "    \n",
    "    return tf.cast(look_ahead_mask + padding_mask > 0, dtype='float')"
   ]
  },
  {
   "cell_type": "markdown",
   "metadata": {
    "id": "d1xzqk1V-VlS"
   },
   "source": [
    "### Positional encoding (using cosine)"
   ]
  },
  {
   "cell_type": "markdown",
   "metadata": {
    "id": "eGv4L6i2-VlT"
   },
   "source": [
    "adding to features to get shape(64, 212)\n",
    "PE(i, 2j) = sin(i/(10000^(2j/dmodel))\n",
    "PE(i, 2j) = cos(i/(10000^(2j/dmodel))"
   ]
  },
  {
   "cell_type": "code",
   "execution_count": 17,
   "metadata": {
    "executionInfo": {
     "elapsed": 15,
     "status": "ok",
     "timestamp": 1638278334780,
     "user": {
      "displayName": "Etienne Lechat",
      "photoUrl": "https://lh3.googleusercontent.com/a-/AOh14GgmoGdW53wykADrW_17_vgxv_ArgNO41B2IK4EoMA=s64",
      "userId": "01017481021905327795"
     },
     "user_tz": -60
    },
    "id": "X7gAwtbt-VlT"
   },
   "outputs": [],
   "source": [
    "def get_angles(pos, i, d_model):\n",
    "    angle_rates = 1 / np.power(10000, (2 * (i//2)) / np.float32(d_model))\n",
    "    return pos * angle_rates"
   ]
  },
  {
   "cell_type": "code",
   "execution_count": 18,
   "metadata": {
    "executionInfo": {
     "elapsed": 237,
     "status": "ok",
     "timestamp": 1638278336750,
     "user": {
      "displayName": "Etienne Lechat",
      "photoUrl": "https://lh3.googleusercontent.com/a-/AOh14GgmoGdW53wykADrW_17_vgxv_ArgNO41B2IK4EoMA=s64",
      "userId": "01017481021905327795"
     },
     "user_tz": -60
    },
    "id": "d2srJ7RA-VlU"
   },
   "outputs": [],
   "source": [
    "def positional_encoding(position, d_model):\n",
    "    '''\n",
    "    from a list of position [0 to length -1] build the the pos encoding,\n",
    "    DOUBLING THE LENGTH\n",
    "    '''\n",
    "    angle_rads = get_angles(np.arange(position)[:, np.newaxis],\n",
    "                          np.arange(d_model)[np.newaxis, :],\n",
    "                          d_model)\n",
    "\n",
    "  # apply sin to even indices in the array; 2i\n",
    "    angle_rads[:, 0::2] = np.sin(angle_rads[:, 0::2])\n",
    "\n",
    "  # apply cos to odd indices in the array; 2i+1\n",
    "    angle_rads[:, 1::2] = np.cos(angle_rads[:, 1::2])\n",
    "\n",
    "    pos_encoding = angle_rads[np.newaxis, ...]\n",
    "\n",
    "    return tf.cast(pos_encoding, dtype=tf.float32)"
   ]
  },
  {
   "cell_type": "markdown",
   "metadata": {
    "id": "2IgFC91x-VlU"
   },
   "source": [
    "# Encoder"
   ]
  },
  {
   "cell_type": "markdown",
   "metadata": {
    "id": "psUh1fnn-VlU"
   },
   "source": [
    "***now we're talking***"
   ]
  },
  {
   "cell_type": "markdown",
   "metadata": {
    "id": "ne7G-o80-VlV"
   },
   "source": [
    "### Encoder layer"
   ]
  },
  {
   "cell_type": "code",
   "execution_count": 19,
   "metadata": {
    "executionInfo": {
     "elapsed": 224,
     "status": "ok",
     "timestamp": 1638278340582,
     "user": {
      "displayName": "Etienne Lechat",
      "photoUrl": "https://lh3.googleusercontent.com/a-/AOh14GgmoGdW53wykADrW_17_vgxv_ArgNO41B2IK4EoMA=s64",
      "userId": "01017481021905327795"
     },
     "user_tz": -60
    },
    "id": "rCk6shQv-VlV"
   },
   "outputs": [],
   "source": [
    "class EncoderLayer(tf.keras.layers.Layer):\n",
    "    '''\n",
    "    one block of encoder\n",
    "    '''\n",
    "    def __init__(self, d_model, num_heads, dff, rate=0.1):\n",
    "        super(EncoderLayer, self).__init__()\n",
    "\n",
    "        self.mha = MultiHeadAttention(d_model, num_heads)\n",
    "        self.ffn = point_wise_feed_forward_network(d_model, dff)\n",
    "\n",
    "        self.layernorm1 = tf.keras.layers.LayerNormalization(epsilon=1e-6)\n",
    "        self.layernorm2 = tf.keras.layers.LayerNormalization(epsilon=1e-6)\n",
    "\n",
    "        self.dropout1 = tf.keras.layers.Dropout(rate)\n",
    "        self.dropout2 = tf.keras.layers.Dropout(rate)\n",
    "        self.num_heads = num_heads\n",
    "\n",
    "    def call(self, x, training):\n",
    "\n",
    "        attn_output, _ = self.mha(x, x, x, create_padding_mask(x, x, self.num_heads))  # (batch_size, input_seq_len, d_model)\n",
    "        attn_output = self.dropout1(attn_output, training=training)\n",
    "        out1 = self.layernorm1(x + attn_output)  # (batch_size, input_seq_len, d_model)\n",
    "\n",
    "        ffn_output = self.ffn(out1)  # (batch_size, input_seq_len, d_model)\n",
    "        ffn_output = self.dropout2(ffn_output, training=training)\n",
    "        out2 = self.layernorm2(out1 + ffn_output)  # (batch_size, input_seq_len, d_model)\n",
    "\n",
    "        return out2"
   ]
  },
  {
   "cell_type": "markdown",
   "metadata": {
    "id": "42j3tMSy-VlV"
   },
   "source": [
    "### Full encoder (with preprocessing)"
   ]
  },
  {
   "cell_type": "code",
   "execution_count": 20,
   "metadata": {
    "executionInfo": {
     "elapsed": 233,
     "status": "ok",
     "timestamp": 1638278346197,
     "user": {
      "displayName": "Etienne Lechat",
      "photoUrl": "https://lh3.googleusercontent.com/a-/AOh14GgmoGdW53wykADrW_17_vgxv_ArgNO41B2IK4EoMA=s64",
      "userId": "01017481021905327795"
     },
     "user_tz": -60
    },
    "id": "FCDV-1Bj-VlV"
   },
   "outputs": [],
   "source": [
    "class Encoder(tf.keras.layers.Layer):\n",
    "    def __init__(self, num_layers, d_model, num_heads, dff, input_vocab_size,\n",
    "               maximum_position_encoding, rate=0.1):\n",
    "        super(Encoder, self).__init__()\n",
    "\n",
    "        self.d_model = d_model\n",
    "        self.num_layers = num_layers\n",
    "\n",
    "        self.pos_encoding = positional_encoding(maximum_position_encoding,\n",
    "                                                self.d_model)\n",
    "\n",
    "        self.enc_layers = [EncoderLayer(d_model, num_heads, dff, rate)\n",
    "                           for _ in range(num_layers)]\n",
    "\n",
    "        self.dropout = tf.keras.layers.Dropout(rate)\n",
    "        \n",
    "\n",
    "    def call(self, x, training):\n",
    "\n",
    "        seq_len = tf.shape(x)[1]\n",
    "\n",
    "        x = tf.cast(x, tf.float32)\n",
    "        # normalizing for model 'depth'\n",
    "        x *= tf.math.sqrt(tf.cast(self.d_model, tf.float32))\n",
    "        # adding positional encoding.\n",
    "        x += self.pos_encoding[:, :seq_len, :]\n",
    "\n",
    "        x = self.dropout(x, training=training)\n",
    "\n",
    "        for i in range(self.num_layers):\n",
    "            x = self.enc_layers[i](x, training)\n",
    "\n",
    "        return x  # (batch_size, input_seq_len, d_model)"
   ]
  },
  {
   "cell_type": "markdown",
   "metadata": {
    "id": "HvLgM4VS-VlW"
   },
   "source": [
    "# Decoder"
   ]
  },
  {
   "cell_type": "markdown",
   "metadata": {
    "id": "o_Vg5Bu_-VlW"
   },
   "source": [
    "## Decoder layer"
   ]
  },
  {
   "cell_type": "code",
   "execution_count": 21,
   "metadata": {
    "executionInfo": {
     "elapsed": 256,
     "status": "ok",
     "timestamp": 1638278349934,
     "user": {
      "displayName": "Etienne Lechat",
      "photoUrl": "https://lh3.googleusercontent.com/a-/AOh14GgmoGdW53wykADrW_17_vgxv_ArgNO41B2IK4EoMA=s64",
      "userId": "01017481021905327795"
     },
     "user_tz": -60
    },
    "id": "9nsSAh7k-VlW"
   },
   "outputs": [],
   "source": [
    "\n",
    "class DecoderLayer(tf.keras.layers.Layer):\n",
    "    def __init__(self, d_model, num_heads, dff, rate=0.1):\n",
    "        super(DecoderLayer, self).__init__()\n",
    "\n",
    "        self.mha1 = MultiHeadAttention(d_model, num_heads)\n",
    "        self.mha2 = MultiHeadAttention(d_model, num_heads)\n",
    "\n",
    "        self.ffn = point_wise_feed_forward_network(d_model, dff)\n",
    "\n",
    "        self.layernorm1 = tf.keras.layers.LayerNormalization(epsilon=1e-6)\n",
    "        self.layernorm2 = tf.keras.layers.LayerNormalization(epsilon=1e-6)\n",
    "        self.layernorm3 = tf.keras.layers.LayerNormalization(epsilon=1e-6)\n",
    "\n",
    "        self.dropout1 = tf.keras.layers.Dropout(rate)\n",
    "        self.dropout2 = tf.keras.layers.Dropout(rate)\n",
    "        self.dropout3 = tf.keras.layers.Dropout(rate)\n",
    "        \n",
    "        self.num_heads = num_heads\n",
    "\n",
    "    def call(self, x, enc_output, training):\n",
    "        # enc_output.shape == (batch_size, input_seq_len, d_model)\n",
    "\n",
    "        attn1, attn_weights_block1 = self.mha1(x, x, x,\n",
    "                                              self_attention_decoder_mask(x, self.num_heads) \n",
    "                                              )\n",
    "        # (batch_size, target_seq_len, d_model)\n",
    "        # first mha layer acts on the outputs\n",
    "        attn1 = self.dropout1(attn1, training=training)\n",
    "        out1 = self.layernorm1(attn1 + x)\n",
    "\n",
    "        attn2, attn_weights_block2 = self.mha2(\n",
    "                                            out1, enc_output, enc_output, \n",
    "                                            create_padding_mask(enc_output, out1, self.num_heads))  # (batch_size, target_seq_len, d_model)\n",
    "        # second mha layer: key, queries from the encoder, values itself\n",
    "        attn2 = self.dropout2(attn2, training=training)\n",
    "        out2 = self.layernorm2(attn2 + out1)  # (batch_size, target_seq_len, d_model)\n",
    "\n",
    "        ffn_output = self.ffn(out2)  # (batch_size, target_seq_len, d_model)\n",
    "        ffn_output = self.dropout3(ffn_output, training=training)\n",
    "        out3 = self.layernorm3(ffn_output + out2)  # (batch_size, target_seq_len, d_model)\n",
    "\n",
    "        return out3, attn_weights_block1, attn_weights_block2"
   ]
  },
  {
   "cell_type": "markdown",
   "metadata": {
    "id": "7wQZoxCW-VlW"
   },
   "source": [
    "### Full decoder"
   ]
  },
  {
   "cell_type": "markdown",
   "metadata": {
    "id": "PHmzQ6Bu-VlX"
   },
   "source": [
    "1 postional layer, N decoding layers"
   ]
  },
  {
   "cell_type": "code",
   "execution_count": 22,
   "metadata": {
    "executionInfo": {
     "elapsed": 248,
     "status": "ok",
     "timestamp": 1638278356212,
     "user": {
      "displayName": "Etienne Lechat",
      "photoUrl": "https://lh3.googleusercontent.com/a-/AOh14GgmoGdW53wykADrW_17_vgxv_ArgNO41B2IK4EoMA=s64",
      "userId": "01017481021905327795"
     },
     "user_tz": -60
    },
    "id": "Rkkzmw4d-VlX"
   },
   "outputs": [],
   "source": [
    "class Decoder(tf.keras.layers.Layer):\n",
    "    def __init__(self, num_layers, d_model, num_heads, dff, \n",
    "                 maximum_position_encoding, rate=0.1):\n",
    "        super(Decoder, self).__init__()\n",
    "\n",
    "        self.d_model = d_model\n",
    "        self.num_layers = num_layers\n",
    "\n",
    "       \n",
    "        self.pos_encoding = positional_encoding(maximum_position_encoding, d_model)\n",
    "\n",
    "        self.dec_layers = [DecoderLayer(d_model, num_heads, dff, rate)\n",
    "                           for _ in range(num_layers)]\n",
    "        self.dropout = tf.keras.layers.Dropout(rate)\n",
    "\n",
    "    def call(self, x, enc_output, training):\n",
    "\n",
    "        seq_len = tf.shape(x)[1]\n",
    "        attention_weights = {}\n",
    "\n",
    "        #for us d_model = 64\n",
    "        x = tf.cast(x, tf.float32) # (batch_size, target_seq_len, d_model)\n",
    "        x *= tf.math.sqrt(tf.cast(self.d_model, tf.float32))\n",
    "        x += self.pos_encoding[:, :seq_len, :]\n",
    "\n",
    "        x = self.dropout(x, training=training)\n",
    "\n",
    "        for i in range(self.num_layers):\n",
    "            x, block1, block2 = self.dec_layers[i](x, enc_output, training)\n",
    "\n",
    "            attention_weights[f'decoder_layer{i+1}_block1'] = block1\n",
    "            attention_weights[f'decoder_layer{i+1}_block2'] = block2\n",
    "\n",
    "    # x.shape == (batch_size, target_seq_len, d_model)\n",
    "        return x, attention_weights"
   ]
  },
  {
   "cell_type": "markdown",
   "metadata": {
    "id": "IWobabfG-VlX"
   },
   "source": [
    "# Plugging everything, plus sigmoid layer"
   ]
  },
  {
   "cell_type": "code",
   "execution_count": 23,
   "metadata": {
    "executionInfo": {
     "elapsed": 241,
     "status": "ok",
     "timestamp": 1638278359844,
     "user": {
      "displayName": "Etienne Lechat",
      "photoUrl": "https://lh3.googleusercontent.com/a-/AOh14GgmoGdW53wykADrW_17_vgxv_ArgNO41B2IK4EoMA=s64",
      "userId": "01017481021905327795"
     },
     "user_tz": -60
    },
    "id": "1JIexS5T-VlX"
   },
   "outputs": [],
   "source": [
    "class Transformer(tf.keras.Model):\n",
    "    def __init__(self, num_layers, d_model, num_heads, dff, \n",
    "                 pe_input, pe_target, rate=0.1):\n",
    "        super().__init__()\n",
    "        self.encoder = Encoder(num_layers, d_model, num_heads, dff,\n",
    "                                  pe_input, rate)\n",
    "\n",
    "        self.decoder = Decoder(num_layers, d_model, num_heads, dff,\n",
    "                               pe_target, rate)\n",
    "\n",
    "        self.final_layer = tf.keras.layers.Activation('sigmoid') #already the correct shape youhou\n",
    "\n",
    "    def call(self, input_enc, input_dec,  training):\n",
    "        # Keras models prefer if you pass all your inputs in the first argument\n",
    "\n",
    "        enc_output = self.encoder(input_enc, training)  # (batch_size, inp_seq_len, d_model)\n",
    "\n",
    "        # dec_output.shape == (batch_size, tar_seq_len, d_model)\n",
    "        dec_output, attention_weights = self.decoder(input_dec, enc_output, training) #\n",
    "\n",
    "        final_output = self.final_layer(dec_output)  # (batch_size, tar_seq_len, target_vocab_size)\n",
    "\n",
    "        return final_output, attention_weights"
   ]
  },
  {
   "cell_type": "markdown",
   "metadata": {
    "id": "kZUNMZ4A-VlX"
   },
   "source": [
    "# Train, compile, stuff"
   ]
  },
  {
   "cell_type": "markdown",
   "metadata": {
    "id": "pMoW9HlX-VlY"
   },
   "source": [
    "### Hyperparameters"
   ]
  },
  {
   "cell_type": "code",
   "execution_count": 24,
   "metadata": {
    "executionInfo": {
     "elapsed": 230,
     "status": "ok",
     "timestamp": 1638289600810,
     "user": {
      "displayName": "Etienne Lechat",
      "photoUrl": "https://lh3.googleusercontent.com/a-/AOh14GgmoGdW53wykADrW_17_vgxv_ArgNO41B2IK4EoMA=s64",
      "userId": "01017481021905327795"
     },
     "user_tz": -60
    },
    "id": "EsAO8Zx_-VlY"
   },
   "outputs": [],
   "source": [
    "num_layers = 4\n",
    "d_model = 64 #d_model is our number of features, SO DO NOT CHANGE THAT\n",
    "dff = 2048\n",
    "num_heads = 8 #must be a divider of d_model, so not a lot of choices here...\n",
    "dropout_rate = .1"
   ]
  },
  {
   "cell_type": "markdown",
   "metadata": {
    "id": "UfSkXPRD-VlY"
   },
   "source": [
    "### Optimizer"
   ]
  },
  {
   "cell_type": "markdown",
   "metadata": {
    "id": "bwDusWMn-VlY"
   },
   "source": [
    "Use the Adam optimizer with a custom learning rate scheduler according to the formula in the paper."
   ]
  },
  {
   "cell_type": "code",
   "execution_count": 25,
   "metadata": {
    "executionInfo": {
     "elapsed": 242,
     "status": "ok",
     "timestamp": 1638278374147,
     "user": {
      "displayName": "Etienne Lechat",
      "photoUrl": "https://lh3.googleusercontent.com/a-/AOh14GgmoGdW53wykADrW_17_vgxv_ArgNO41B2IK4EoMA=s64",
      "userId": "01017481021905327795"
     },
     "user_tz": -60
    },
    "id": "UAnwXoR_-VlY"
   },
   "outputs": [],
   "source": [
    "class CustomSchedule(tf.keras.optimizers.schedules.LearningRateSchedule):\n",
    "# learning rate will increase linearly over the warmup_steps, the decrease like    \n",
    "# the inverse square root\n",
    "    def __init__(self, d_model, warmup_steps=4000):\n",
    "        super(CustomSchedule, self).__init__()\n",
    "\n",
    "        self.d_model = d_model\n",
    "        self.d_model = tf.cast(self.d_model, tf.float32)\n",
    "\n",
    "        self.warmup_steps = warmup_steps\n",
    "\n",
    "    def __call__(self, step):\n",
    "        arg1 = tf.math.rsqrt(step)\n",
    "        arg2 = step * (self.warmup_steps ** -1.5)\n",
    "\n",
    "        return tf.math.rsqrt(self.d_model) * tf.math.minimum(arg1, arg2)"
   ]
  },
  {
   "cell_type": "code",
   "execution_count": 26,
   "metadata": {
    "colab": {
     "base_uri": "https://localhost:8080/",
     "height": 299
    },
    "executionInfo": {
     "elapsed": 800,
     "status": "ok",
     "timestamp": 1638278396950,
     "user": {
      "displayName": "Etienne Lechat",
      "photoUrl": "https://lh3.googleusercontent.com/a-/AOh14GgmoGdW53wykADrW_17_vgxv_ArgNO41B2IK4EoMA=s64",
      "userId": "01017481021905327795"
     },
     "user_tz": -60
    },
    "id": "gGgpquwZ-VlY",
    "outputId": "cea8c8c9-656d-4fed-e4ab-9289c9678856"
   },
   "outputs": [
    {
     "data": {
      "text/plain": [
       "Text(0.5, 0, 'Train Step')"
      ]
     },
     "execution_count": 26,
     "metadata": {},
     "output_type": "execute_result"
    },
    {
     "data": {
      "image/png": "[encoded data removed]",
      "text/plain": [
       "<Figure size 432x288 with 1 Axes>"
      ]
     },
     "metadata": {
      "needs_background": "light"
     },
     "output_type": "display_data"
    }
   ],
   "source": [
    "learning_rate = CustomSchedule(d_model)\n",
    "\n",
    "optimizer = tf.keras.optimizers.Adam(learning_rate, beta_1=0.9, beta_2=0.98,\n",
    "                                     epsilon=1e-9)\n",
    "\n",
    "temp_learning_rate_schedule = CustomSchedule(d_model)\n",
    "\n",
    "plt.plot(temp_learning_rate_schedule(tf.range(40000, dtype=tf.float32)))\n",
    "plt.ylabel(\"Learning Rate\")\n",
    "plt.xlabel(\"Train Step\")"
   ]
  },
  {
   "cell_type": "markdown",
   "metadata": {
    "id": "J2B_6s69-VlZ"
   },
   "source": [
    "### Loss and metrics"
   ]
  },
  {
   "cell_type": "code",
   "execution_count": 27,
   "metadata": {
    "colab": {
     "base_uri": "https://localhost:8080/"
    },
    "executionInfo": {
     "elapsed": 231,
     "status": "ok",
     "timestamp": 1638288061357,
     "user": {
      "displayName": "Etienne Lechat",
      "photoUrl": "https://lh3.googleusercontent.com/a-/AOh14GgmoGdW53wykADrW_17_vgxv_ArgNO41B2IK4EoMA=s64",
      "userId": "01017481021905327795"
     },
     "user_tz": -60
    },
    "id": "0fVdsmVjBelC",
    "outputId": "cc8b0571-8658-41a7-d102-2a7d4d8b9f13"
   },
   "outputs": [],
   "source": [
    "def gkern(height, width):\n",
    "    \n",
    "    sigx = tf.cast(height/6, 'float')\n",
    "    sigy = tf.cast(width/6, 'float')\n",
    "    ay = tf.linspace(-(width - 1) / 2., (width - 1) / 2., width)\n",
    "    ax = tf.linspace(-(height - 1) / 2., (height - 1) / 2.,height)\n",
    "    gaussx = tf.math.exp(-0.5 * tf.math.square(ax) / tf.math.square(sigx))\n",
    "    gaussy = tf.math.exp(-0.5 * tf.math.square(ay) / tf.math.square(sigy))\n",
    "    kernel = tf.tensordot(gaussx, gaussy, axes=0)\n",
    "    \n",
    "    return kernel / tf.reduce_sum(kernel)\n",
    "\n",
    "\n",
    "def batch_convolute(X, ker): #convolute over a pile of images\n",
    "\n",
    "    ker = tf.expand_dims(tf.expand_dims(ker, axis=-1), axis=-1)\n",
    "    X = tf.cast(X, dtype='float')\n",
    "    X = tf.expand_dims(X, axis=-1)\n",
    "    ans =  tf.nn.conv2d(X, ker, strides = [1,1,1,1], padding='SAME')\n",
    "\n",
    "    return tf.squeeze(ans)\n",
    "\n",
    "\n",
    "def custom_metrics(y_true, y_pred, kernel_height=10, kernel_width=10):\n",
    "\n",
    "    ker = gkern(kernel_height, kernel_width)\n",
    "\n",
    "    y_true = batch_convolute(y_true, ker)\n",
    "    y_pred = batch_convolute(y_pred, ker)\n",
    "\n",
    "    return 1 - tf.reduce_sum(tf.math.abs(y_true-y_pred))/tf.reduce_sum(y_true+y_pred)\n",
    "\n",
    "\n",
    "  \n",
    "def simple2D_convolute(A, ker):\n",
    "    \n",
    "    ker = tf.expand_dims(tf.expand_dims(ker, axis=-1), axis=-1)\n",
    "    A = tf.expand_dims(tf.expand_dims(A, axis=0), axis=-1)\n",
    "    A = tf.cast(A, dtype='float')\n",
    "    ans =  tf.nn.conv2d(A, ker, strides = [1,1,1,1], padding='SAME')\n",
    "\n",
    "    return tf.squeeze(ans)\n",
    "\n",
    "bce = tf.keras.losses.BinaryCrossentropy()\n",
    "\n",
    "def custom_loss(y_true, y_pred, ker_height=3, ker_width=2): #we want to calcute over a batch\n",
    "\n",
    "    #ker = gkern(ker_height, ker_width)\n",
    "    #y_true = tf.cast(y_true, dtype='float')\n",
    "    #y_pred = batch_convolute(y_pred, ker)\n",
    "    \n",
    "    #coeffs = tf.reduce_sum(y_true, (1,2))/tf.reduce_sum(y_pred, (1,2))\n",
    "    #y_pred = coeffs[:, tf.newaxis, tf.newaxis] * y_pred\n",
    "\n",
    "    return  bce(y_true, y_pred)#tf.reduce_mean(tf.math.abs(y_true - y_pred))"
   ]
  },
  {
   "cell_type": "code",
   "execution_count": 28,
   "metadata": {},
   "outputs": [],
   "source": [
    "train_loss = tf.keras.metrics.Mean(name='train_loss')\n",
    "train_accuracy = tf.keras.metrics.Mean(name='train_accuracy')"
   ]
  },
  {
   "cell_type": "markdown",
   "metadata": {
    "id": "aP_WnrYs-Vla"
   },
   "source": [
    "## Train"
   ]
  },
  {
   "cell_type": "markdown",
   "metadata": {
    "id": "RUTq-7BQ-Vla"
   },
   "source": [
    "### Train step and # of epochs"
   ]
  },
  {
   "cell_type": "code",
   "execution_count": 29,
   "metadata": {
    "executionInfo": {
     "elapsed": 285,
     "status": "ok",
     "timestamp": 1638288194112,
     "user": {
      "displayName": "Etienne Lechat",
      "photoUrl": "https://lh3.googleusercontent.com/a-/AOh14GgmoGdW53wykADrW_17_vgxv_ArgNO41B2IK4EoMA=s64",
      "userId": "01017481021905327795"
     },
     "user_tz": -60
    },
    "id": "UxtOCk2U-Vla"
   },
   "outputs": [],
   "source": [
    "EPOCHS = 250"
   ]
  },
  {
   "cell_type": "code",
   "execution_count": 30,
   "metadata": {
    "executionInfo": {
     "elapsed": 266,
     "status": "ok",
     "timestamp": 1638288196245,
     "user": {
      "displayName": "Etienne Lechat",
      "photoUrl": "https://lh3.googleusercontent.com/a-/AOh14GgmoGdW53wykADrW_17_vgxv_ArgNO41B2IK4EoMA=s64",
      "userId": "01017481021905327795"
     },
     "user_tz": -60
    },
    "id": "WrUK8FPZ-Vla"
   },
   "outputs": [],
   "source": [
    "def train_step(inp, tar):\n",
    "    # here we want to compare the transformer ouput with the target: we will shift right to feed the decoder,\n",
    "    # compare trans output with tar shft left (since the decoder DO NOT change the length of the extract)\n",
    "    with tf.GradientTape() as tape:\n",
    "        predictions, _ = transformer(inp, tar[:, :-1, :],\n",
    "                                 training = True)\n",
    "      \n",
    "        loss = custom_loss(tar[:, 1:, :], predictions)\n",
    "\n",
    "    gradients = tape.gradient(loss, transformer.trainable_variables)\n",
    "    optimizer.apply_gradients(zip(gradients, transformer.trainable_variables))\n",
    "\n",
    "    train_loss(loss)\n",
    "    train_accuracy(custom_metrics(tar[:, 1:, :], predictions))"
   ]
  },
  {
   "cell_type": "code",
   "execution_count": 31,
   "metadata": {},
   "outputs": [
    {
     "data": {
      "text/plain": [
       "[2, 3, 4, 5]"
      ]
     },
     "execution_count": 31,
     "metadata": {},
     "output_type": "execute_result"
    }
   ],
   "source": [
    "A = [1,2,3,4,5]\n",
    "A[1:]"
   ]
  },
  {
   "cell_type": "markdown",
   "metadata": {
    "id": "OhVebzz6-Vlb"
   },
   "source": [
    "### Batching the dataset"
   ]
  },
  {
   "cell_type": "code",
   "execution_count": 32,
   "metadata": {
    "executionInfo": {
     "elapsed": 218,
     "status": "ok",
     "timestamp": 1638288199988,
     "user": {
      "displayName": "Etienne Lechat",
      "photoUrl": "https://lh3.googleusercontent.com/a-/AOh14GgmoGdW53wykADrW_17_vgxv_ArgNO41B2IK4EoMA=s64",
      "userId": "01017481021905327795"
     },
     "user_tz": -60
    },
    "id": "nmxMlAHF-Vlb"
   },
   "outputs": [],
   "source": [
    "BATCH_SIZE = 32"
   ]
  },
  {
   "cell_type": "code",
   "execution_count": 33,
   "metadata": {
    "executionInfo": {
     "elapsed": 325,
     "status": "ok",
     "timestamp": 1638288203219,
     "user": {
      "displayName": "Etienne Lechat",
      "photoUrl": "https://lh3.googleusercontent.com/a-/AOh14GgmoGdW53wykADrW_17_vgxv_ArgNO41B2IK4EoMA=s64",
      "userId": "01017481021905327795"
     },
     "user_tz": -60
    },
    "id": "XFcRpat5-Vlb"
   },
   "outputs": [],
   "source": [
    "def train_batches(X, y, batch_size=BATCH_SIZE):\n",
    "    n_samples = X.shape[0]\n",
    "    list_ = list(range(n_samples))\n",
    "    random.shuffle(list_)\n",
    "    \n",
    "    n_batches = n_samples // batch_size\n",
    "    ans = []\n",
    "    \n",
    "    for i in range(n_batches):\n",
    "        \n",
    "        Xbatch = np.zeros((batch_size, X.shape[1], X.shape[2]))\n",
    "        ybatch = np.zeros((batch_size, y.shape[1], y.shape[2]))\n",
    "        for j in range(0, batch_size):\n",
    "            \n",
    "            Xbatch[j, :, :] = X[list_[j + i * batch_size], :, :]\n",
    "            ybatch[j, :, :] = y[list_[j + i * batch_size], :, :]\n",
    "        ans.append((Xbatch, ybatch))\n",
    "    len_last_batch = n_samples % batch_size\n",
    "    if len_last_batch != 0:\n",
    "        Xbatch = np.zeros((len_last_batch, X.shape[1], X.shape[2]))\n",
    "        ybatch = np.zeros((len_last_batch, y.shape[1], y.shape[2]))\n",
    "        for i in range(len_last_batch):\n",
    "            Xbatch[i, :, :] = X[list_[batch_size * (n_samples // batch_size) + i], :, :]\n",
    "            ybatch[i, :, :] = y[list_[batch_size * (n_samples // batch_size) + i], :, :]\n",
    "        ans.append((Xbatch, ybatch))\n",
    "    return ans    "
   ]
  },
  {
   "cell_type": "code",
   "execution_count": 34,
   "metadata": {
    "colab": {
     "base_uri": "https://localhost:8080/"
    },
    "executionInfo": {
     "elapsed": 500,
     "status": "ok",
     "timestamp": 1638288205349,
     "user": {
      "displayName": "Etienne Lechat",
      "photoUrl": "https://lh3.googleusercontent.com/a-/AOh14GgmoGdW53wykADrW_17_vgxv_ArgNO41B2IK4EoMA=s64",
      "userId": "01017481021905327795"
     },
     "user_tz": -60
    },
    "id": "_SHh1wHd-Vlc",
    "outputId": "3b785575-3f42-494c-c955-e362cc24bb9e"
   },
   "outputs": [
    {
     "data": {
      "text/plain": [
       "32"
      ]
     },
     "execution_count": 34,
     "metadata": {},
     "output_type": "execute_result"
    }
   ],
   "source": [
    "len(train_batches(X_train, y_train)[193][0])"
   ]
  },
  {
   "cell_type": "markdown",
   "metadata": {
    "id": "yJl5DAGJ-Vlc"
   },
   "source": [
    "### Training itself"
   ]
  },
  {
   "cell_type": "markdown",
   "metadata": {
    "id": "oLSHfdLG-Vlc"
   },
   "source": [
    "The target is divided into tar_inp and tar_real. tar_inp is passed as an input to the decoder. tar_real is that same input shifted by 1: At each location in tar_input, tar_real contains the next token that should be predicted.\n",
    "\n",
    "For example, sentence = \"SOS A lion in the jungle is sleeping EOS\"\n",
    "\n",
    "tar_inp = \"SOS A lion in the jungle is sleeping\"\n",
    "\n",
    "tar_real = \"A lion in the jungle is sleeping EOS\"\n",
    "\n",
    "The transformer is an auto-regressive model: it makes predictions one part at a time, and uses its output so far to decide what to do next.\n",
    "\n",
    "During training this example uses teacher-forcing (like in the text generation tutorial). Teacher forcing is passing the true output to the next time step regardless of what the model predicts at the current time step.\n",
    "\n",
    "As the transformer predicts each token, self-attention allows it to look at the previous tokens in the input sequence to better predict the next token.\n",
    "\n",
    "To prevent the model from peeking at the expected output the model uses a look-ahead mask."
   ]
  },
  {
   "cell_type": "code",
   "execution_count": 35,
   "metadata": {
    "executionInfo": {
     "elapsed": 349,
     "status": "ok",
     "timestamp": 1638289611409,
     "user": {
      "displayName": "Etienne Lechat",
      "photoUrl": "https://lh3.googleusercontent.com/a-/AOh14GgmoGdW53wykADrW_17_vgxv_ArgNO41B2IK4EoMA=s64",
      "userId": "01017481021905327795"
     },
     "user_tz": -60
    },
    "id": "Q1NsHQlb-Vlc"
   },
   "outputs": [],
   "source": [
    "transformer = Transformer(\n",
    "    num_layers=num_layers,\n",
    "    d_model=d_model,\n",
    "    num_heads=num_heads,\n",
    "    dff=dff,\n",
    "    pe_input=1000,\n",
    "    pe_target=1000,\n",
    "    rate=dropout_rate)"
   ]
  },
  {
   "cell_type": "code",
   "execution_count": 36,
   "metadata": {},
   "outputs": [
    {
     "name": "stdout",
     "output_type": "stream",
     "text": [
      "Latest checkpoint restored!!\n"
     ]
    }
   ],
   "source": [
    "checkpoint_path = \"./checkpoints/train\"\n",
    "#\n",
    "ckpt = tf.train.Checkpoint(transformer=transformer,\n",
    "                           optimizer=optimizer)\n",
    "#\n",
    "ckpt_manager = tf.train.CheckpointManager(ckpt, checkpoint_path, max_to_keep=5)\n",
    "#\n",
    "## if a checkpoint exists, restore the latest checkpoint.\n",
    "if ckpt_manager.latest_checkpoint:\n",
    "    ckpt.restore(ckpt_manager.latest_checkpoint)\n",
    "    print('Latest checkpoint restored!!')"
   ]
  },
  {
   "cell_type": "code",
   "execution_count": 37,
   "metadata": {
    "colab": {
     "base_uri": "https://localhost:8080/",
     "height": 1000
    },
    "executionInfo": {
     "elapsed": 750665,
     "status": "error",
     "timestamp": 1638291642313,
     "user": {
      "displayName": "Etienne Lechat",
      "photoUrl": "https://lh3.googleusercontent.com/a-/AOh14GgmoGdW53wykADrW_17_vgxv_ArgNO41B2IK4EoMA=s64",
      "userId": "01017481021905327795"
     },
     "user_tz": -60
    },
    "id": "FxdiPx91-Vlc",
    "outputId": "e562466c-4539-4299-b8a4-3eb17ded45ef"
   },
   "outputs": [
    {
     "name": "stdout",
     "output_type": "stream",
     "text": [
      "WARNING:tensorflow:Layer transformer is casting an input tensor from dtype float64 to the layer's dtype of float32, which is new behavior in TensorFlow 2.  The layer has dtype float32 because it's dtype defaults to floatx.\n",
      "\n",
      "If you intended to run this layer in float32, you can safely ignore this warning. If in doubt, this warning is likely only an issue if you are porting a TensorFlow 1.X model to TensorFlow 2.\n",
      "\n",
      "To change all layers to have dtype float64 by default, call `tf.keras.backend.set_floatx('float64')`. To change just this layer, pass dtype='float64' to the layer constructor. If you are the author of this layer, you can disable autocasting by passing autocast=False to the base Layer constructor.\n",
      "\n",
      "WARNING:tensorflow:Layer decoder is casting an input tensor from dtype float64 to the layer's dtype of float32, which is new behavior in TensorFlow 2.  The layer has dtype float32 because it's dtype defaults to floatx.\n",
      "\n",
      "If you intended to run this layer in float32, you can safely ignore this warning. If in doubt, this warning is likely only an issue if you are porting a TensorFlow 1.X model to TensorFlow 2.\n",
      "\n",
      "To change all layers to have dtype float64 by default, call `tf.keras.backend.set_floatx('float64')`. To change just this layer, pass dtype='float64' to the layer constructor. If you are the author of this layer, you can disable autocasting by passing autocast=False to the base Layer constructor.\n",
      "\n",
      "Epoch 1 Batch 0 Loss 0.0264 Accuracy 0.9240\n"
     ]
    },
    {
     "ename": "KeyboardInterrupt",
     "evalue": "",
     "output_type": "error",
     "traceback": [
      "\u001b[0;31m---------------------------------------------------------------------------\u001b[0m",
      "\u001b[0;31mKeyboardInterrupt\u001b[0m                         Traceback (most recent call last)",
      "\u001b[0;32m<ipython-input-37-62346010b903>\u001b[0m in \u001b[0;36m<module>\u001b[0;34m\u001b[0m\n\u001b[1;32m     12\u001b[0m \u001b[0;34m\u001b[0m\u001b[0m\n\u001b[1;32m     13\u001b[0m     \u001b[0;32mfor\u001b[0m \u001b[0;34m(\u001b[0m\u001b[0mbatch\u001b[0m\u001b[0;34m,\u001b[0m \u001b[0;34m(\u001b[0m\u001b[0minp\u001b[0m\u001b[0;34m,\u001b[0m \u001b[0mtar\u001b[0m\u001b[0;34m)\u001b[0m\u001b[0;34m)\u001b[0m \u001b[0;32min\u001b[0m \u001b[0menumerate\u001b[0m\u001b[0;34m(\u001b[0m\u001b[0mtrain_batches\u001b[0m\u001b[0;34m(\u001b[0m\u001b[0mXtrunc\u001b[0m\u001b[0;34m,\u001b[0m \u001b[0mytrunc\u001b[0m\u001b[0;34m)\u001b[0m\u001b[0;34m)\u001b[0m\u001b[0;34m:\u001b[0m\u001b[0;34m\u001b[0m\u001b[0;34m\u001b[0m\u001b[0m\n\u001b[0;32m---> 14\u001b[0;31m         \u001b[0mtrain_step\u001b[0m\u001b[0;34m(\u001b[0m\u001b[0minp\u001b[0m\u001b[0;34m,\u001b[0m \u001b[0mtar\u001b[0m\u001b[0;34m)\u001b[0m\u001b[0;34m\u001b[0m\u001b[0;34m\u001b[0m\u001b[0m\n\u001b[0m\u001b[1;32m     15\u001b[0m \u001b[0;34m\u001b[0m\u001b[0m\n\u001b[1;32m     16\u001b[0m         \u001b[0;32mif\u001b[0m \u001b[0mbatch\u001b[0m \u001b[0;34m%\u001b[0m \u001b[0;36m50\u001b[0m \u001b[0;34m==\u001b[0m \u001b[0;36m0\u001b[0m\u001b[0;34m:\u001b[0m\u001b[0;34m\u001b[0m\u001b[0;34m\u001b[0m\u001b[0m\n",
      "\u001b[0;32m<ipython-input-30-33c8c5ca9a6b>\u001b[0m in \u001b[0;36mtrain_step\u001b[0;34m(inp, tar)\u001b[0m\n\u001b[1;32m      8\u001b[0m         \u001b[0mloss\u001b[0m \u001b[0;34m=\u001b[0m \u001b[0mcustom_loss\u001b[0m\u001b[0;34m(\u001b[0m\u001b[0mtar\u001b[0m\u001b[0;34m[\u001b[0m\u001b[0;34m:\u001b[0m\u001b[0;34m,\u001b[0m \u001b[0;36m1\u001b[0m\u001b[0;34m:\u001b[0m\u001b[0;34m,\u001b[0m \u001b[0;34m:\u001b[0m\u001b[0;34m]\u001b[0m\u001b[0;34m,\u001b[0m \u001b[0mpredictions\u001b[0m\u001b[0;34m)\u001b[0m\u001b[0;34m\u001b[0m\u001b[0;34m\u001b[0m\u001b[0m\n\u001b[1;32m      9\u001b[0m \u001b[0;34m\u001b[0m\u001b[0m\n\u001b[0;32m---> 10\u001b[0;31m     \u001b[0mgradients\u001b[0m \u001b[0;34m=\u001b[0m \u001b[0mtape\u001b[0m\u001b[0;34m.\u001b[0m\u001b[0mgradient\u001b[0m\u001b[0;34m(\u001b[0m\u001b[0mloss\u001b[0m\u001b[0;34m,\u001b[0m \u001b[0mtransformer\u001b[0m\u001b[0;34m.\u001b[0m\u001b[0mtrainable_variables\u001b[0m\u001b[0;34m)\u001b[0m\u001b[0;34m\u001b[0m\u001b[0;34m\u001b[0m\u001b[0m\n\u001b[0m\u001b[1;32m     11\u001b[0m     \u001b[0moptimizer\u001b[0m\u001b[0;34m.\u001b[0m\u001b[0mapply_gradients\u001b[0m\u001b[0;34m(\u001b[0m\u001b[0mzip\u001b[0m\u001b[0;34m(\u001b[0m\u001b[0mgradients\u001b[0m\u001b[0;34m,\u001b[0m \u001b[0mtransformer\u001b[0m\u001b[0;34m.\u001b[0m\u001b[0mtrainable_variables\u001b[0m\u001b[0;34m)\u001b[0m\u001b[0;34m)\u001b[0m\u001b[0;34m\u001b[0m\u001b[0;34m\u001b[0m\u001b[0m\n\u001b[1;32m     12\u001b[0m \u001b[0;34m\u001b[0m\u001b[0m\n",
      "\u001b[0;32m/usr/local/lib/python3.6/dist-packages/tensorflow_core/python/eager/backprop.py\u001b[0m in \u001b[0;36mgradient\u001b[0;34m(self, target, sources, output_gradients, unconnected_gradients)\u001b[0m\n\u001b[1;32m   1027\u001b[0m         \u001b[0moutput_gradients\u001b[0m\u001b[0;34m=\u001b[0m\u001b[0moutput_gradients\u001b[0m\u001b[0;34m,\u001b[0m\u001b[0;34m\u001b[0m\u001b[0;34m\u001b[0m\u001b[0m\n\u001b[1;32m   1028\u001b[0m         \u001b[0msources_raw\u001b[0m\u001b[0;34m=\u001b[0m\u001b[0mflat_sources_raw\u001b[0m\u001b[0;34m,\u001b[0m\u001b[0;34m\u001b[0m\u001b[0;34m\u001b[0m\u001b[0m\n\u001b[0;32m-> 1029\u001b[0;31m         unconnected_gradients=unconnected_gradients)\n\u001b[0m\u001b[1;32m   1030\u001b[0m \u001b[0;34m\u001b[0m\u001b[0m\n\u001b[1;32m   1031\u001b[0m     \u001b[0;32mif\u001b[0m \u001b[0;32mnot\u001b[0m \u001b[0mself\u001b[0m\u001b[0;34m.\u001b[0m\u001b[0m_persistent\u001b[0m\u001b[0;34m:\u001b[0m\u001b[0;34m\u001b[0m\u001b[0;34m\u001b[0m\u001b[0m\n",
      "\u001b[0;32m/usr/local/lib/python3.6/dist-packages/tensorflow_core/python/eager/imperative_grad.py\u001b[0m in \u001b[0;36mimperative_grad\u001b[0;34m(tape, target, sources, output_gradients, sources_raw, unconnected_gradients)\u001b[0m\n\u001b[1;32m     75\u001b[0m       \u001b[0moutput_gradients\u001b[0m\u001b[0;34m,\u001b[0m\u001b[0;34m\u001b[0m\u001b[0;34m\u001b[0m\u001b[0m\n\u001b[1;32m     76\u001b[0m       \u001b[0msources_raw\u001b[0m\u001b[0;34m,\u001b[0m\u001b[0;34m\u001b[0m\u001b[0;34m\u001b[0m\u001b[0m\n\u001b[0;32m---> 77\u001b[0;31m       compat.as_str(unconnected_gradients.value))\n\u001b[0m",
      "\u001b[0;32m/usr/local/lib/python3.6/dist-packages/tensorflow_core/python/eager/backprop.py\u001b[0m in \u001b[0;36m_gradient_function\u001b[0;34m(op_name, attr_tuple, num_inputs, inputs, outputs, out_grads, skip_input_indices)\u001b[0m\n\u001b[1;32m    139\u001b[0m     \u001b[0;32mreturn\u001b[0m \u001b[0;34m[\u001b[0m\u001b[0;32mNone\u001b[0m\u001b[0;34m]\u001b[0m \u001b[0;34m*\u001b[0m \u001b[0mnum_inputs\u001b[0m\u001b[0;34m\u001b[0m\u001b[0;34m\u001b[0m\u001b[0m\n\u001b[1;32m    140\u001b[0m \u001b[0;34m\u001b[0m\u001b[0m\n\u001b[0;32m--> 141\u001b[0;31m   \u001b[0;32mreturn\u001b[0m \u001b[0mgrad_fn\u001b[0m\u001b[0;34m(\u001b[0m\u001b[0mmock_op\u001b[0m\u001b[0;34m,\u001b[0m \u001b[0;34m*\u001b[0m\u001b[0mout_grads\u001b[0m\u001b[0;34m)\u001b[0m\u001b[0;34m\u001b[0m\u001b[0;34m\u001b[0m\u001b[0m\n\u001b[0m\u001b[1;32m    142\u001b[0m \u001b[0;34m\u001b[0m\u001b[0m\n\u001b[1;32m    143\u001b[0m \u001b[0;34m\u001b[0m\u001b[0m\n",
      "\u001b[0;32m/usr/local/lib/python3.6/dist-packages/tensorflow_core/python/ops/array_grad.py\u001b[0m in \u001b[0;36m_TransposeGrad\u001b[0;34m(op, grad)\u001b[0m\n\u001b[1;32m    702\u001b[0m   \u001b[0;34m\"\"\"Returns unshuffle(grad).\"\"\"\u001b[0m\u001b[0;34m\u001b[0m\u001b[0;34m\u001b[0m\u001b[0m\n\u001b[1;32m    703\u001b[0m   \u001b[0mp\u001b[0m \u001b[0;34m=\u001b[0m \u001b[0mop\u001b[0m\u001b[0;34m.\u001b[0m\u001b[0minputs\u001b[0m\u001b[0;34m[\u001b[0m\u001b[0;36m1\u001b[0m\u001b[0;34m]\u001b[0m\u001b[0;34m\u001b[0m\u001b[0;34m\u001b[0m\u001b[0m\n\u001b[0;32m--> 704\u001b[0;31m   \u001b[0;32mreturn\u001b[0m \u001b[0;34m[\u001b[0m\u001b[0marray_ops\u001b[0m\u001b[0;34m.\u001b[0m\u001b[0mtranspose\u001b[0m\u001b[0;34m(\u001b[0m\u001b[0mgrad\u001b[0m\u001b[0;34m,\u001b[0m \u001b[0marray_ops\u001b[0m\u001b[0;34m.\u001b[0m\u001b[0minvert_permutation\u001b[0m\u001b[0;34m(\u001b[0m\u001b[0mp\u001b[0m\u001b[0;34m)\u001b[0m\u001b[0;34m)\u001b[0m\u001b[0;34m,\u001b[0m \u001b[0;32mNone\u001b[0m\u001b[0;34m]\u001b[0m\u001b[0;34m\u001b[0m\u001b[0;34m\u001b[0m\u001b[0m\n\u001b[0m\u001b[1;32m    705\u001b[0m \u001b[0;34m\u001b[0m\u001b[0m\n\u001b[1;32m    706\u001b[0m \u001b[0;34m\u001b[0m\u001b[0m\n",
      "\u001b[0;32m/usr/local/lib/python3.6/dist-packages/tensorflow_core/python/ops/array_ops.py\u001b[0m in \u001b[0;36mtranspose\u001b[0;34m(a, perm, name, conjugate)\u001b[0m\n\u001b[1;32m   1944\u001b[0m \u001b[0;34m\u001b[0m\u001b[0m\n\u001b[1;32m   1945\u001b[0m     \u001b[0;32mif\u001b[0m \u001b[0mperm\u001b[0m \u001b[0;32mis\u001b[0m \u001b[0;32mnot\u001b[0m \u001b[0;32mNone\u001b[0m\u001b[0;34m:\u001b[0m\u001b[0;34m\u001b[0m\u001b[0;34m\u001b[0m\u001b[0m\n\u001b[0;32m-> 1946\u001b[0;31m       \u001b[0;32mreturn\u001b[0m \u001b[0mtranspose_fn\u001b[0m\u001b[0;34m(\u001b[0m\u001b[0ma\u001b[0m\u001b[0;34m,\u001b[0m \u001b[0mperm\u001b[0m\u001b[0;34m,\u001b[0m \u001b[0mname\u001b[0m\u001b[0;34m=\u001b[0m\u001b[0mname\u001b[0m\u001b[0;34m)\u001b[0m\u001b[0;34m\u001b[0m\u001b[0;34m\u001b[0m\u001b[0m\n\u001b[0m\u001b[1;32m   1947\u001b[0m \u001b[0;34m\u001b[0m\u001b[0m\n\u001b[1;32m   1948\u001b[0m     \u001b[0mrank\u001b[0m \u001b[0;34m=\u001b[0m \u001b[0ma\u001b[0m\u001b[0;34m.\u001b[0m\u001b[0mshape\u001b[0m\u001b[0;34m.\u001b[0m\u001b[0mrank\u001b[0m\u001b[0;34m\u001b[0m\u001b[0;34m\u001b[0m\u001b[0m\n",
      "\u001b[0;32m/usr/local/lib/python3.6/dist-packages/tensorflow_core/python/ops/gen_array_ops.py\u001b[0m in \u001b[0;36mtranspose\u001b[0;34m(x, perm, name)\u001b[0m\n\u001b[1;32m  10523\u001b[0m       _result = _pywrap_tensorflow.TFE_Py_FastPathExecute(\n\u001b[1;32m  10524\u001b[0m         \u001b[0m_ctx\u001b[0m\u001b[0;34m.\u001b[0m\u001b[0m_context_handle\u001b[0m\u001b[0;34m,\u001b[0m \u001b[0mtld\u001b[0m\u001b[0;34m.\u001b[0m\u001b[0mdevice_name\u001b[0m\u001b[0;34m,\u001b[0m \u001b[0;34m\"Transpose\"\u001b[0m\u001b[0;34m,\u001b[0m \u001b[0mname\u001b[0m\u001b[0;34m,\u001b[0m\u001b[0;34m\u001b[0m\u001b[0;34m\u001b[0m\u001b[0m\n\u001b[0;32m> 10525\u001b[0;31m         tld.op_callbacks, x, perm)\n\u001b[0m\u001b[1;32m  10526\u001b[0m       \u001b[0;32mreturn\u001b[0m \u001b[0m_result\u001b[0m\u001b[0;34m\u001b[0m\u001b[0;34m\u001b[0m\u001b[0m\n\u001b[1;32m  10527\u001b[0m     \u001b[0;32mexcept\u001b[0m \u001b[0m_core\u001b[0m\u001b[0;34m.\u001b[0m\u001b[0m_FallbackException\u001b[0m\u001b[0;34m:\u001b[0m\u001b[0;34m\u001b[0m\u001b[0;34m\u001b[0m\u001b[0m\n",
      "\u001b[0;31mKeyboardInterrupt\u001b[0m: "
     ]
    }
   ],
   "source": [
    "'''\n",
    "NOW WE TRAIN\n",
    "'''\n",
    "\n",
    "for epoch in range(EPOCHS):\n",
    "    start = time.time()\n",
    "    \n",
    "    train_loss.reset_states()\n",
    "    train_accuracy.reset_states()\n",
    "    \n",
    "\n",
    "\n",
    "    for (batch, (inp, tar)) in enumerate(train_batches(Xtrunc, ytrunc)):\n",
    "        train_step(inp, tar)\n",
    "\n",
    "        if batch % 50 == 0:\n",
    "            print(f'Epoch {epoch + 1} Batch {batch} Loss {train_loss.result():.4f} Accuracy {train_accuracy.result():.4f}')\n",
    "\n",
    "    if (epoch + 1) % 2 == 0:\n",
    "        ckpt_save_path = ckpt_manager.save()\n",
    "        print(f'Saving checkpoint for epoch {epoch+1} at {ckpt_save_path}')\n",
    "\n",
    "    print(f'Epoch {epoch + 1} Loss {train_loss.result():.4f} Accuracy {train_accuracy.result():.4f}')\n",
    "\n",
    "    print(f'Time taken for 1 epoch: {time.time() - start:.2f} secs\\n')"
   ]
  },
  {
   "cell_type": "markdown",
   "metadata": {
    "id": "3ZZ3LITC-Vld"
   },
   "source": [
    "# Interpreter"
   ]
  },
  {
   "cell_type": "code",
   "execution_count": 82,
   "metadata": {
    "executionInfo": {
     "elapsed": 474,
     "status": "ok",
     "timestamp": 1638290838618,
     "user": {
      "displayName": "Etienne Lechat",
      "photoUrl": "https://lh3.googleusercontent.com/a-/AOh14GgmoGdW53wykADrW_17_vgxv_ArgNO41B2IK4EoMA=s64",
      "userId": "01017481021905327795"
     },
     "user_tz": -60
    },
    "id": "49kutSk9-Vld"
   },
   "outputs": [],
   "source": [
    "class Musician(tf.Module):\n",
    "    def __init__(self, transformer, output_length):\n",
    "        #self.tokenizers = tokenizers\n",
    "        self.transformer = transformer\n",
    "        self.output_length = output_length\n",
    "        \n",
    "    def __call__(self, music):\n",
    "    \n",
    "  \n",
    "        encoder_input = tf.expand_dims(music, 0)\n",
    "        \n",
    "        \n",
    "        #decoder initializing with the last note heard\n",
    "        \n",
    "        \n",
    "        decoder_input = encoder_input[:, -1:, :]\n",
    "    \n",
    "        for i in range(self.output_length):\n",
    "            \n",
    "            predictions, _ = self.transformer(encoder_input, decoder_input, training=False)\n",
    "            next_note = notes(tf.squeeze(predictions[:, -1, :]))\n",
    "            decoder_input = np.concatenate((decoder_input, next_note[tf.newaxis, tf.newaxis, :]), axis=1)\n",
    "            \n",
    "               \n",
    "        return np.squeeze(decoder_input[:, 1:, :])\n"
   ]
  },
  {
   "cell_type": "code",
   "execution_count": null,
   "metadata": {},
   "outputs": [],
   "source": [
    "class Dummy(tf.Module):\n",
    "    def __init__(self, transformer, output_length):\n",
    "        #self.tokenizers = tokenizers\n",
    "        self.transformer = transformer\n",
    "        self.output_length = output_length\n",
    "        \n",
    "    def __call__(self, music):\n",
    "    \n",
    "    "
   ]
  },
  {
   "cell_type": "code",
   "execution_count": 79,
   "metadata": {},
   "outputs": [],
   "source": [
    "musician = Musician(transformer,15)"
   ]
  },
  {
   "cell_type": "code",
   "execution_count": 54,
   "metadata": {},
   "outputs": [
    {
     "data": {
      "text/plain": [
       "<tf.Tensor: shape=(50, 64), dtype=float64, numpy=\n",
       "array([[0., 0., 0., ..., 0., 0., 0.],\n",
       "       [0., 0., 0., ..., 0., 0., 0.],\n",
       "       [0., 0., 0., ..., 0., 0., 0.],\n",
       "       ...,\n",
       "       [0., 0., 0., ..., 0., 0., 0.],\n",
       "       [0., 0., 0., ..., 0., 0., 0.],\n",
       "       [0., 0., 0., ..., 0., 0., 0.]])>"
      ]
     },
     "execution_count": 54,
     "metadata": {},
     "output_type": "execute_result"
    }
   ],
   "source": [
    "musician(Xtrunc[34])"
   ]
  },
  {
   "cell_type": "markdown",
   "metadata": {},
   "source": [
    "# Converting probas to notes (per time step)"
   ]
  },
  {
   "cell_type": "code",
   "execution_count": null,
   "metadata": {},
   "outputs": [],
   "source": [
    "A = tf.reduce_sum(Xtrunc, -1) # shape (batch_size, len_seq)\n",
    "tf.reduce_max(A)"
   ]
  },
  {
   "cell_type": "code",
   "execution_count": null,
   "metadata": {},
   "outputs": [],
   "source": [
    "Xtrunc[0,0,:].shape[0]"
   ]
  },
  {
   "cell_type": "code",
   "execution_count": null,
   "metadata": {
    "scrolled": true
   },
   "outputs": [],
   "source": [
    "len(np.where(A == 10)[0])"
   ]
  },
  {
   "cell_type": "code",
   "execution_count": 41,
   "metadata": {},
   "outputs": [],
   "source": [
    "def notes(prob_notes): # shape(d_model)\n",
    "    \n",
    "    range_notes = prob_notes.shape[0]    \n",
    "    high_prob = tf.reduce_max(prob_notes)\n",
    "    \n",
    "      \n",
    "    ans = tf.cast((prob_notes > high_prob/2), dtype='float')\n",
    "    ans = ans.numpy()\n",
    "    #we want to eliminate disgracious contiguous notes\n",
    "    \n",
    "    #one_indices = np.where(ans == 1)[0]\n",
    "\n",
    "    #for i in range(1, len(one_indices)):\n",
    "    #    if one_indices[i] - one_indices[i -1] == 1:\n",
    "    #        ans[one_indices[i]] = 0\n",
    "    \n",
    "    return ans\n",
    "        "
   ]
  },
  {
   "cell_type": "code",
   "execution_count": null,
   "metadata": {},
   "outputs": [],
   "source": [
    "notes_prob = np.array([.1, .6, .7, .8, .9, .5, .54545, .6, .67, .57, .75])\n",
    "len(notes_prob)"
   ]
  },
  {
   "cell_type": "code",
   "execution_count": null,
   "metadata": {},
   "outputs": [],
   "source": [
    "notes(notes_prob)"
   ]
  },
  {
   "cell_type": "code",
   "execution_count": null,
   "metadata": {},
   "outputs": [],
   "source": [
    "one_indices"
   ]
  },
  {
   "cell_type": "code",
   "execution_count": null,
   "metadata": {},
   "outputs": [],
   "source": [
    "one_indices = np.where(notes(notes_prob) == 1)[0]"
   ]
  },
  {
   "cell_type": "code",
   "execution_count": null,
   "metadata": {},
   "outputs": [],
   "source": [
    "for i in range(1, len(one_indices)):\n",
    "    if one_indices[i] - one_indices[i -1] == 1:\n",
    "        print('ok')\n",
    "        A[one_indices[i]] = 0"
   ]
  },
  {
   "cell_type": "code",
   "execution_count": 57,
   "metadata": {},
   "outputs": [],
   "source": [
    "from PIL import Image"
   ]
  },
  {
   "cell_type": "code",
   "execution_count": 50,
   "metadata": {
    "scrolled": true
   },
   "outputs": [
    {
     "name": "stdout",
     "output_type": "stream",
     "text": [
      "Collecting imageio\n",
      "\u001b[?25l  Downloading https://files.pythonhosted.org/packages/93/46/cff0a5440eef59aef829c84cd4a40bd2131be738f61a604a21ab57fcdd9d/imageio-2.13.1-py3-none-any.whl (3.3MB)\n",
      "\u001b[K     |████████████████████████████████| 3.3MB 3.2MB/s eta 0:00:01\n",
      "\u001b[?25hCollecting pillow>=8.3.2\n",
      "\u001b[?25l  Downloading https://files.pythonhosted.org/packages/ea/0f/2fa195c2d8c6fe0b3dc2df5fc6ac6b8dbd005ea30aaa0fa43eca88b8c664/Pillow-8.4.0-cp36-cp36m-manylinux_2_17_x86_64.manylinux2014_x86_64.whl (3.1MB)\n",
      "\u001b[K     |████████████████████████████████| 3.1MB 8.6MB/s eta 0:00:01\n",
      "\u001b[?25hRequirement already satisfied: numpy in /usr/local/lib/python3.6/dist-packages (from imageio) (1.18.1)\n",
      "Installing collected packages: pillow, imageio\n",
      "Successfully installed imageio-2.13.1 pillow-8.4.0\n",
      "\u001b[33mWARNING: You are using pip version 19.3.1; however, version 21.3.1 is available.\n",
      "You should consider upgrading via the 'pip install --upgrade pip' command.\u001b[0m\n"
     ]
    }
   ],
   "source": [
    "!pip install imageio"
   ]
  },
  {
   "cell_type": "code",
   "execution_count": 48,
   "metadata": {
    "scrolled": true
   },
   "outputs": [
    {
     "name": "stdout",
     "output_type": "stream",
     "text": [
      "Collecting music21\n",
      "\u001b[?25l  Downloading https://files.pythonhosted.org/packages/43/f3/da0ab10ffb5e58e2690b8dff310bb53f35af213a8853ec72c08df41ea080/music21-6.7.1.tar.gz (19.2MB)\n",
      "\u001b[K     |████████████████████████████████| 19.3MB 5.1MB/s eta 0:00:01\n",
      "\u001b[?25hRequirement already satisfied: chardet in /usr/local/lib/python3.6/dist-packages (from music21) (3.0.4)\n",
      "Collecting joblib\n",
      "\u001b[?25l  Downloading https://files.pythonhosted.org/packages/3e/d5/0163eb0cfa0b673aa4fe1cd3ea9d8a81ea0f32e50807b0c295871e4aab2e/joblib-1.1.0-py2.py3-none-any.whl (306kB)\n",
      "\u001b[K     |████████████████████████████████| 307kB 7.1MB/s eta 0:00:01\n",
      "\u001b[?25hRequirement already satisfied: more-itertools in /usr/local/lib/python3.6/dist-packages (from music21) (8.0.2)\n",
      "Collecting webcolors\n",
      "  Downloading https://files.pythonhosted.org/packages/12/05/3350559de9714b202e443a9e6312937341bd5f79f4e4f625744295e7dd17/webcolors-1.11.1-py3-none-any.whl\n",
      "Building wheels for collected packages: music21\n",
      "  Building wheel for music21 (setup.py) ... \u001b[?25ldone\n",
      "\u001b[?25h  Created wheel for music21: filename=music21-6.7.1-cp36-none-any.whl size=21939371 sha256=9dd40024913eb4da711b80ef0dff0cebca75eff0b2882d75929ec71ad1eb6827\n",
      "  Stored in directory: /root/.cache/pip/wheels/1a/0f/0e/f78ad56a2738f4ea5082dd4283d7b7cce18a8ba20c3e609b6c\n",
      "Successfully built music21\n",
      "Installing collected packages: joblib, webcolors, music21\n",
      "Successfully installed joblib-1.1.0 music21-6.7.1 webcolors-1.11.1\n",
      "\u001b[33mWARNING: You are using pip version 19.3.1; however, version 21.3.1 is available.\n",
      "You should consider upgrading via the 'pip install --upgrade pip' command.\u001b[0m\n"
     ]
    }
   ],
   "source": [
    "!pip install music21"
   ]
  },
  {
   "cell_type": "code",
   "execution_count": 51,
   "metadata": {},
   "outputs": [],
   "source": [
    "from music21 import instrument, note, chord, stream\n",
    "from imageio import imwrite\n",
    "### Matrix to image section\n",
    "\n",
    "lowerBoundNote = 21\n",
    "\n",
    "def column2notes(column):\n",
    "    notes = []\n",
    "    for i in range(len(column)):\n",
    "        if column[i] > 255/2:\n",
    "            notes.append(i+lowerBoundNote)\n",
    "    return notes\n",
    "\n",
    "def updateNotes(newNotes,prevNotes, resolution):\n",
    "    res = {}\n",
    "    for note in newNotes:\n",
    "        if note in prevNotes:\n",
    "            res[note] = prevNotes[note] + resolution\n",
    "        else:\n",
    "            res[note] = resolution\n",
    "    return res\n",
    "\n",
    "def image2midi(image_path, resolution):\n",
    "    with Image.open(image_path) as image:\n",
    "        im_arr = np.frombuffer(image.tobytes(), dtype=np.uint8)\n",
    "        try:\n",
    "            im_arr = im_arr.reshape((image.size[1], image.size[0]))\n",
    "        except:\n",
    "            im_arr = im_arr.reshape((image.size[1], image.size[0],3))\n",
    "            im_arr = np.dot(im_arr, [0.33, 0.33, 0.33])\n",
    "\n",
    "    \"\"\" convert the output from the prediction to notes and create a midi file\n",
    "        from the notes \"\"\"\n",
    "    offset = 0\n",
    "    output_notes = []\n",
    "\n",
    "    # create note and chord objects based on the values generated by the model\n",
    "\n",
    "    prev_notes = updateNotes(im_arr.T[0,:],{},resolution)\n",
    "    for column in im_arr.T[1:,:]:\n",
    "        notes = column2notes(column)\n",
    "        # pattern is a chord\n",
    "        notes_in_chord = notes\n",
    "        old_notes = prev_notes.keys()\n",
    "        for old_note in old_notes:\n",
    "            if not old_note in notes_in_chord:\n",
    "                new_note = note.Note(old_note,quarterLength=prev_notes[old_note])\n",
    "                new_note.storedInstrument = instrument.Piano()\n",
    "                if offset - prev_notes[old_note] >= 0:\n",
    "                    new_note.offset = offset - prev_notes[old_note]\n",
    "                    output_notes.append(new_note)\n",
    "                elif offset == 0:\n",
    "                    new_note.offset = offset\n",
    "                    output_notes.append(new_note)\n",
    "                else:\n",
    "                    print(offset,prev_notes[old_note],old_note)\n",
    "\n",
    "        prev_notes = updateNotes(notes_in_chord,prev_notes, resolution)\n",
    "\n",
    "        # increase offset each iteration so that notes do not stack\n",
    "        offset += resolution\n",
    "\n",
    "    for old_note in prev_notes.keys():\n",
    "        new_note = note.Note(old_note,quarterLength=prev_notes[old_note])\n",
    "        new_note.storedInstrument = instrument.Piano()\n",
    "        new_note.offset = offset - prev_notes[old_note]\n",
    "\n",
    "        output_notes.append(new_note)\n",
    "\n",
    "    prev_notes = updateNotes(notes_in_chord,prev_notes, resolution)\n",
    "\n",
    "    midi_stream = stream.Stream(output_notes)\n",
    "\n",
    "    midi_stream.write('midi', fp=image_path.split(\"/\")[-1].replace(\".png\",\".mid\"))\n",
    "\n",
    "def matrix_to_image(matrix, file_name):\n",
    "    '''\n",
    "    Convert numpy array to midi image\n",
    "    '''\n",
    "    matrix_bw = matrix\n",
    "    matrix_bw[matrix_bw > 0] = 255 # change 1 to white pixel\n",
    "    imwrite(file_name + \".png\", matrix_bw.astype(np.uint8))\n",
    "\n",
    "def matrix_to_midi(matrix, file_name, resolution):\n",
    "    '''\n",
    "    Create midi_file out of matrix\n",
    "    '''\n",
    "    matrix_to_image(matrix, file_name)\n",
    "    image2midi(file_name + '.png', resolution)"
   ]
  },
  {
   "cell_type": "code",
   "execution_count": 83,
   "metadata": {},
   "outputs": [],
   "source": [
    "def composer(musician, music_input, n_measures):\n",
    "    musician_input = music_input\n",
    "    for i in range(n_measures):\n",
    "        next_measure = musician(musician_input)\n",
    "        musician_input = tf.concat([musician_input, next_measure], axis=0)\n",
    "    return musician_input"
   ]
  },
  {
   "cell_type": "code",
   "execution_count": 87,
   "metadata": {},
   "outputs": [],
   "source": [
    "B = composer(musician, Xtrunc[8000], 10)"
   ]
  },
  {
   "cell_type": "code",
   "execution_count": 106,
   "metadata": {},
   "outputs": [],
   "source": [
    "C = composer(musician, Xbeat, 10)"
   ]
  },
  {
   "cell_type": "code",
   "execution_count": 80,
   "metadata": {},
   "outputs": [],
   "source": [
    "A = musician(Xtrunc[8000])"
   ]
  },
  {
   "cell_type": "code",
   "execution_count": 107,
   "metadata": {
    "scrolled": true
   },
   "outputs": [
    {
     "data": {
      "text/plain": [
       "<matplotlib.image.AxesImage at 0x7f03090e4a58>"
      ]
     },
     "execution_count": 107,
     "metadata": {},
     "output_type": "execute_result"
    },
    {
     "data": {
      "image/png": "[encoded data removed]",
      "text/plain": [
       "<Figure size 432x288 with 1 Axes>"
      ]
     },
     "metadata": {
      "image/png": {
       "height": 133,
       "width": 369
      },
      "needs_background": "light"
     },
     "output_type": "display_data"
    }
   ],
   "source": [
    "plt.imshow(C.numpy().T)"
   ]
  },
  {
   "cell_type": "code",
   "execution_count": 67,
   "metadata": {
    "scrolled": true
   },
   "outputs": [
    {
     "data": {
      "text/plain": [
       "<matplotlib.image.AxesImage at 0x7f033c087a58>"
      ]
     },
     "execution_count": 67,
     "metadata": {},
     "output_type": "execute_result"
    },
    {
     "data": {
      "image/png": "[encoded data removed]",
      "text/plain": [
       "<Figure size 432x288 with 1 Axes>"
      ]
     },
     "metadata": {
      "image/png": {
       "height": 250,
       "width": 251
      },
      "needs_background": "light"
     },
     "output_type": "display_data"
    }
   ],
   "source": [
    "plt.imshow(Xtrunc[1000].T)"
   ]
  },
  {
   "cell_type": "code",
   "execution_count": 108,
   "metadata": {
    "executionInfo": {
     "elapsed": 3447,
     "status": "ok",
     "timestamp": 1638291687454,
     "user": {
      "displayName": "Etienne Lechat",
      "photoUrl": "https://lh3.googleusercontent.com/a-/AOh14GgmoGdW53wykADrW_17_vgxv_ArgNO41B2IK4EoMA=s64",
      "userId": "01017481021905327795"
     },
     "user_tz": -60
    },
    "id": "HMq3k4A7i0T-"
   },
   "outputs": [],
   "source": [
    "\n",
    "matrix_to_midi(C.numpy().T, 'Etienne7', .25)"
   ]
  },
  {
   "cell_type": "code",
   "execution_count": 59,
   "metadata": {
    "colab": {
     "base_uri": "https://localhost:8080/",
     "height": 35
    },
    "executionInfo": {
     "elapsed": 321,
     "status": "ok",
     "timestamp": 1638287775954,
     "user": {
      "displayName": "Etienne Lechat",
      "photoUrl": "https://lh3.googleusercontent.com/a-/AOh14GgmoGdW53wykADrW_17_vgxv_ArgNO41B2IK4EoMA=s64",
      "userId": "01017481021905327795"
     },
     "user_tz": -60
    },
    "id": "IlABIeBmj2jS",
    "outputId": "3cfaa2b2-7af0-40b7-b5e0-222798424876"
   },
   "outputs": [
    {
     "data": {
      "text/plain": [
       "'/tf/bach_propagation/notebooks'"
      ]
     },
     "execution_count": 59,
     "metadata": {},
     "output_type": "execute_result"
    }
   ],
   "source": [
    "pwd"
   ]
  },
  {
   "cell_type": "code",
   "execution_count": null,
   "metadata": {
    "id": "PW8K4d7I-Vle",
    "outputId": "a93ad7cf-9d03-4013-cb20-241193e3c114"
   },
   "outputs": [],
   "source": [
    "plt.imshow(X_train[123])"
   ]
  },
  {
   "cell_type": "code",
   "execution_count": null,
   "metadata": {
    "colab": {
     "base_uri": "https://localhost:8080/"
    },
    "executionInfo": {
     "elapsed": 264,
     "status": "ok",
     "timestamp": 1638287624181,
     "user": {
      "displayName": "Etienne Lechat",
      "photoUrl": "https://lh3.googleusercontent.com/a-/AOh14GgmoGdW53wykADrW_17_vgxv_ArgNO41B2IK4EoMA=s64",
      "userId": "01017481021905327795"
     },
     "user_tz": -60
    },
    "id": "V9OEDn-oZ0wi",
    "outputId": "395d9b9f-306a-4dd2-b9d3-7b98683a5957"
   },
   "outputs": [],
   "source": [
    "BOL = np.array([[True, True, False],[False, False, True]])\n",
    "BOL.astype('int')"
   ]
  },
  {
   "cell_type": "code",
   "execution_count": null,
   "metadata": {
    "executionInfo": {
     "elapsed": 300,
     "status": "ok",
     "timestamp": 1638284971101,
     "user": {
      "displayName": "Etienne Lechat",
      "photoUrl": "https://lh3.googleusercontent.com/a-/AOh14GgmoGdW53wykADrW_17_vgxv_ArgNO41B2IK4EoMA=s64",
      "userId": "01017481021905327795"
     },
     "user_tz": -60
    },
    "id": "hG28gkFl-Vle"
   },
   "outputs": [],
   "source": [
    "def composer(transformer, music_input, output_length):\n",
    "    \n",
    "    return 'Abject Failure !'\n",
    "\n"
   ]
  },
  {
   "cell_type": "code",
   "execution_count": null,
   "metadata": {
    "colab": {
     "base_uri": "https://localhost:8080/",
     "height": 117
    },
    "executionInfo": {
     "elapsed": 1988,
     "status": "ok",
     "timestamp": 1638286037360,
     "user": {
      "displayName": "Etienne Lechat",
      "photoUrl": "https://lh3.googleusercontent.com/a-/AOh14GgmoGdW53wykADrW_17_vgxv_ArgNO41B2IK4EoMA=s64",
      "userId": "01017481021905327795"
     },
     "user_tz": -60
    },
    "id": "g_zb5V21-Vld",
    "outputId": "2313a024-3ba4-4487-c194-ac6e05dae23a"
   },
   "outputs": [],
   "source": [
    "(notes(musician2(Xtrunc[10]), Xtrunc[10]))"
   ]
  },
  {
   "cell_type": "code",
   "execution_count": null,
   "metadata": {
    "colab": {
     "base_uri": "https://localhost:8080/"
    },
    "executionInfo": {
     "elapsed": 4690,
     "status": "ok",
     "timestamp": 1638285696293,
     "user": {
      "displayName": "Etienne Lechat",
      "photoUrl": "https://lh3.googleusercontent.com/a-/AOh14GgmoGdW53wykADrW_17_vgxv_ArgNO41B2IK4EoMA=s64",
      "userId": "01017481021905327795"
     },
     "user_tz": -60
    },
    "id": "EHRvbLJebW13",
    "outputId": "e427db0d-4141-4217-9ecd-c2ceca70aeca"
   },
   "outputs": [],
   "source": [
    "plt.imshow(Xtrunc[10])"
   ]
  },
  {
   "cell_type": "code",
   "execution_count": null,
   "metadata": {
    "executionInfo": {
     "elapsed": 5060,
     "status": "ok",
     "timestamp": 1638282645857,
     "user": {
      "displayName": "Etienne Lechat",
      "photoUrl": "https://lh3.googleusercontent.com/a-/AOh14GgmoGdW53wykADrW_17_vgxv_ArgNO41B2IK4EoMA=s64",
      "userId": "01017481021905327795"
     },
     "user_tz": -60
    },
    "id": "Pa0YevZ1-Vle"
   },
   "outputs": [],
   "source": [
    "A = composer(transformer, X_train[123], 50)"
   ]
  },
  {
   "cell_type": "code",
   "execution_count": null,
   "metadata": {
    "executionInfo": {
     "elapsed": 277,
     "status": "ok",
     "timestamp": 1638281512923,
     "user": {
      "displayName": "Etienne Lechat",
      "photoUrl": "https://lh3.googleusercontent.com/a-/AOh14GgmoGdW53wykADrW_17_vgxv_ArgNO41B2IK4EoMA=s64",
      "userId": "01017481021905327795"
     },
     "user_tz": -60
    },
    "id": "QnygTE5E-Vle"
   },
   "outputs": [],
   "source": [
    "from utils import plot_midi"
   ]
  },
  {
   "cell_type": "code",
   "execution_count": null,
   "metadata": {
    "colab": {
     "base_uri": "https://localhost:8080/",
     "height": 224
    },
    "executionInfo": {
     "elapsed": 295,
     "status": "ok",
     "timestamp": 1638282734505,
     "user": {
      "displayName": "Etienne Lechat",
      "photoUrl": "https://lh3.googleusercontent.com/a-/AOh14GgmoGdW53wykADrW_17_vgxv_ArgNO41B2IK4EoMA=s64",
      "userId": "01017481021905327795"
     },
     "user_tz": -60
    },
    "id": "i8QGknzYMASW",
    "outputId": "2fd1f86d-93d7-4d50-8b4f-0c0604b77184"
   },
   "outputs": [],
   "source": [
    "plt.imshow(A)"
   ]
  },
  {
   "cell_type": "code",
   "execution_count": null,
   "metadata": {
    "colab": {
     "base_uri": "https://localhost:8080/",
     "height": 269
    },
    "executionInfo": {
     "elapsed": 524,
     "status": "ok",
     "timestamp": 1638283622953,
     "user": {
      "displayName": "Etienne Lechat",
      "photoUrl": "https://lh3.googleusercontent.com/a-/AOh14GgmoGdW53wykADrW_17_vgxv_ArgNO41B2IK4EoMA=s64",
      "userId": "01017481021905327795"
     },
     "user_tz": -60
    },
    "id": "mFotf_jMMGZc",
    "outputId": "db820e65-f830-449b-fca3-7e30834cfe52"
   },
   "outputs": [],
   "source": [
    "plt.imshow(X_train[123])"
   ]
  },
  {
   "cell_type": "code",
   "execution_count": null,
   "metadata": {
    "id": "y1CjrdM5Q4ca"
   },
   "outputs": [],
   "source": []
  }
 ],
 "metadata": {
  "accelerator": "GPU",
  "colab": {
   "collapsed_sections": [],
   "machine_shape": "hm",
   "name": "Transformer-EL.ipynb",
   "provenance": []
  },
  "kernelspec": {
   "display_name": "Python 3",
   "language": "python",
   "name": "python3"
  },
  "language_info": {
   "codemirror_mode": {
    "name": "ipython",
    "version": 3
   },
   "file_extension": ".py",
   "mimetype": "text/x-python",
   "name": "python",
   "nbconvert_exporter": "python",
   "pygments_lexer": "ipython3",
   "version": "3.6.9"
  },
  "toc": {
   "base_numbering": 1,
   "nav_menu": {},
   "number_sections": true,
   "sideBar": true,
   "skip_h1_title": false,
   "title_cell": "Table of Contents",
   "title_sidebar": "Contents",
   "toc_cell": false,
   "toc_position": {},
   "toc_section_display": true,
   "toc_window_display": false
  }
 },
 "nbformat": 4,
 "nbformat_minor": 1
}
