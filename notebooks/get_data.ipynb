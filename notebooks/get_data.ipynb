{
 "cells": [
  {
   "cell_type": "code",
   "execution_count": 155,
   "id": "54e65959-7e57-4a68-95b8-f617fec6af0a",
   "metadata": {},
   "outputs": [],
   "source": [
    "import numpy as np\n",
    "import pandas as pd\n",
    "from music21 import converter, note, chord\n",
    "import random\n",
    "from tensorflow.keras import layers, callbacks, models\n",
    "from sklearn.model_selection import train_test_split\n",
    "import matplotlib.pyplot as plt"
   ]
  },
  {
   "cell_type": "code",
   "execution_count": 14,
   "id": "17a7fe6f-06d6-4ef5-a5d7-c8b4db362650",
   "metadata": {},
   "outputs": [],
   "source": [
    "def extractNote(element):\n",
    "    return int(element.pitch.ps)\n",
    "\n",
    "\n",
    "def extractDuration(element):\n",
    "    return element.duration.quarterLength\n",
    "\n",
    "\n",
    "def get_notes(notes_to_parse):\n",
    "    \"\"\"\n",
    "    Get all the notes and chords from the midi files in the ./midi_songs directory\n",
    "    \"\"\"\n",
    "    durations = []\n",
    "    notes = []\n",
    "    start = []\n",
    "\n",
    "    for element in notes_to_parse:\n",
    "        if isinstance(element, note.Note):\n",
    "            if element.isRest:\n",
    "                continue\n",
    "\n",
    "            start.append(element.offset)\n",
    "            notes.append(extractNote(element))\n",
    "            durations.append(extractDuration(element))\n",
    "\n",
    "        elif isinstance(element, chord.Chord):\n",
    "            if element.isRest:\n",
    "                continue\n",
    "            for chord_note in element.notes:\n",
    "                start.append(element.offset)\n",
    "                durations.append(extractDuration(element))\n",
    "                notes.append(extractNote(chord_note))\n",
    "\n",
    "    return {\"start\": start, \"pitch\": notes, \"dur\": durations}\n",
    "\n",
    "\n",
    "\n",
    "def random_xy(matrix, len_x, len_y):\n",
    "\n",
    "    '''\n",
    "    Create random couple X, y of given length out of input matrix\n",
    "    '''\n",
    "\n",
    "    width, length = matrix.shape\n",
    "\n",
    "    start = random.randint(0,width-(len_x+len_y))\n",
    "\n",
    "    left_x = start\n",
    "    right_x = start + len_x\n",
    "\n",
    "    left_y = right_x\n",
    "    right_y = right_x + len_y\n",
    "\n",
    "    return matrix[:, left_x:right_x], matrix[:, left_y:right_y]\n",
    "\n",
    "def midi_to_matrix(midi_path, resolution=1/16, lowerBoundNote=21, upperBoundNote=127):\n",
    "\n",
    "    '''\n",
    "    Takes in a midi file and returns a numpy array:\n",
    "        rows = notes\n",
    "        columns = time (resolution parameter)\n",
    "    '''\n",
    "\n",
    "    mid = converter.parse(midi_path)\n",
    "\n",
    "    data = {}\n",
    "\n",
    "    notes_to_parse = mid.flat.notes\n",
    "    data = get_notes(notes_to_parse)\n",
    "\n",
    "    pitches = data[\"pitch\"]\n",
    "    durs = data[\"dur\"]\n",
    "    starts = data[\"start\"]\n",
    "\n",
    "    matrix = np.zeros((upperBoundNote - lowerBoundNote,\n",
    "                       int((max(starts) + durs[-1]) / resolution)))\n",
    "\n",
    "    for dur, start, pitch in zip(durs, starts, pitches):\n",
    "        dur = int(dur / resolution)\n",
    "        start = int(start / resolution)\n",
    "\n",
    "        for j in range(start, start + dur):\n",
    "            # added line below to create clear division inbetween notes\n",
    "            matrix[pitch - lowerBoundNote, start - 1] = 0\n",
    "            matrix[pitch - lowerBoundNote, j] = 1\n",
    "\n",
    "    return matrix\n",
    "\n",
    "\n",
    "\n",
    "def get_X_y(midi_path, resolution, len_x, len_y, n_sequences):\n",
    "    '''\n",
    "    Create dataframe out of midi file with random X,y\n",
    "    '''\n",
    "    X = []\n",
    "    y = []\n",
    "    matrix = midi_to_matrix(midi_path, resolution)\n",
    "    for n in range(n_sequences):\n",
    "        split_ = random_xy(matrix, len_x, len_y)\n",
    "        X += [split_[0].T]\n",
    "        y += [split_[1].T]\n",
    "    return np.array(X), np.array(y)"
   ]
  },
  {
   "cell_type": "code",
   "execution_count": 9,
   "id": "9e6122cd-9a2b-4931-add0-3f78056a9339",
   "metadata": {},
   "outputs": [
    {
     "name": "stdout",
     "output_type": "stream",
     "text": [
      "/home/lazydragoon/code/lansoni/bach_propagation/bach_propagation/notebooks\n"
     ]
    }
   ],
   "source": [
    "!pwd"
   ]
  },
  {
   "cell_type": "code",
   "execution_count": 72,
   "id": "7e153be0-8fd8-4bc3-bc43-c1db64cb8ab7",
   "metadata": {},
   "outputs": [],
   "source": [
    "X, y = get_X_y('/home/lazydragoon/code/lansoni/bach_propagation/bach_propagation/data/bach_847.mid', .25, 64, 1, 500)"
   ]
  },
  {
   "cell_type": "code",
   "execution_count": 73,
   "id": "6ee28444-4b0e-4c9c-8972-9a56ddd29d25",
   "metadata": {
    "tags": []
   },
   "outputs": [
    {
     "data": {
      "text/plain": [
       "(500, 64, 106)"
      ]
     },
     "execution_count": 73,
     "metadata": {},
     "output_type": "execute_result"
    }
   ],
   "source": [
    "X.shape"
   ]
  },
  {
   "cell_type": "code",
   "execution_count": null,
   "id": "d9f8aa20-1ff3-4394-b328-c3b82631174b",
   "metadata": {},
   "outputs": [],
   "source": []
  },
  {
   "cell_type": "code",
   "execution_count": 74,
   "id": "963de0ea-0eca-4a97-b725-cc79385598da",
   "metadata": {},
   "outputs": [
    {
     "data": {
      "text/plain": [
       "(500, 1, 106)"
      ]
     },
     "execution_count": 74,
     "metadata": {},
     "output_type": "execute_result"
    }
   ],
   "source": [
    "y.shape"
   ]
  },
  {
   "cell_type": "code",
   "execution_count": 76,
   "id": "a6fb5576-15fb-4785-8374-ce33009d4c71",
   "metadata": {},
   "outputs": [],
   "source": [
    "y = y.reshape(500, -1)"
   ]
  },
  {
   "cell_type": "code",
   "execution_count": 77,
   "id": "3bddd5f8-0ab5-4dde-b96e-8bba56552509",
   "metadata": {},
   "outputs": [
    {
     "data": {
      "text/plain": [
       "(500, 106)"
      ]
     },
     "execution_count": 77,
     "metadata": {},
     "output_type": "execute_result"
    }
   ],
   "source": [
    "y.shape"
   ]
  },
  {
   "cell_type": "code",
   "execution_count": 78,
   "id": "eed6b496-17b9-4118-b1be-5afed08472fb",
   "metadata": {},
   "outputs": [],
   "source": [
    "Xtrain, Xval, ytrain, yval = train_test_split(X, y, test_size=.2)"
   ]
  },
  {
   "cell_type": "code",
   "execution_count": 79,
   "id": "d12b0565-6f71-4c54-a0f5-e455f22198e7",
   "metadata": {},
   "outputs": [
    {
     "data": {
      "text/plain": [
       "(400, 64, 106)"
      ]
     },
     "execution_count": 79,
     "metadata": {},
     "output_type": "execute_result"
    }
   ],
   "source": [
    "Xtrain.shape"
   ]
  },
  {
   "cell_type": "code",
   "execution_count": null,
   "id": "e4a36703-5fc3-4f01-8f33-64a8cbd40868",
   "metadata": {},
   "outputs": [],
   "source": []
  },
  {
   "cell_type": "code",
   "execution_count": 80,
   "id": "359c0d66-bdc4-4a4e-9252-e0029adb44b8",
   "metadata": {},
   "outputs": [
    {
     "data": {
      "text/plain": [
       "(100, 106)"
      ]
     },
     "execution_count": 80,
     "metadata": {},
     "output_type": "execute_result"
    }
   ],
   "source": [
    "yval.shape"
   ]
  },
  {
   "cell_type": "code",
   "execution_count": 39,
   "id": "f1c1d76b-ff60-4404-b32c-e662e469289a",
   "metadata": {},
   "outputs": [
    {
     "data": {
      "text/plain": [
       "27136136"
      ]
     },
     "execution_count": 39,
     "metadata": {},
     "output_type": "execute_result"
    }
   ],
   "source": [
    "from sys import getsizeof\n",
    "\n",
    "getsizeof(X)"
   ]
  },
  {
   "cell_type": "code",
   "execution_count": 259,
   "id": "508d1fd3-9160-428e-bdcf-f997ef727ef9",
   "metadata": {},
   "outputs": [],
   "source": [
    "def init_model(number_of_samples, input_length, heights):\n",
    "    model = models.Sequential()\n",
    "    model.add(layers.LSTM(100, return_sequences=True, input_shape=(input_length, heights)))\n",
    "    model.add(layers.LSTM(100))\n",
    "    model.add(layers.Dropout(.2))\n",
    "    model.add(layers.Dense(heights, activation='sigmoid'))\n",
    "    return model\n",
    "\n",
    "def compile_model(model):\n",
    "    model.compile(loss='categorical_crossentropy', optimizer='adam', metrics=['accuracy'])\n",
    "    return model\n",
    "\n",
    "def next_note(predict_note, threshold): #we may want to make 'costum' predictions: if heights have probs>threshold, play them all\n",
    "    return (predict_note > threshold).astype('int')\n"
   ]
  },
  {
   "cell_type": "markdown",
   "id": "8d18d62b-198f-423f-bffc-0b423b281f14",
   "metadata": {},
   "source": [
    "metrics: negative log likelihood"
   ]
  },
  {
   "cell_type": "markdown",
   "id": "dd547460-28a0-44a7-9117-100f7b052bf4",
   "metadata": {},
   "source": [
    "## improving with custom loss "
   ]
  },
  {
   "cell_type": "code",
   "execution_count": null,
   "id": "96ac37f4-e2d4-48b2-940a-8ee956f73662",
   "metadata": {},
   "outputs": [],
   "source": []
  },
  {
   "cell_type": "code",
   "execution_count": 255,
   "id": "be5110c5-155a-4a93-b59a-a3ec5bffbf58",
   "metadata": {},
   "outputs": [],
   "source": [
    "model = init_model(500, 64, 106)"
   ]
  },
  {
   "cell_type": "code",
   "execution_count": 256,
   "id": "71bb0150-9fc6-47d7-98bb-3153a90101de",
   "metadata": {},
   "outputs": [
    {
     "data": {
      "text/plain": [
       "<keras.engine.sequential.Sequential at 0x7f75de201d30>"
      ]
     },
     "execution_count": 256,
     "metadata": {},
     "output_type": "execute_result"
    }
   ],
   "source": [
    "compile_model(model)"
   ]
  },
  {
   "cell_type": "code",
   "execution_count": 257,
   "id": "fdac8d84-7ec0-4580-b704-396ced682c23",
   "metadata": {},
   "outputs": [
    {
     "name": "stdout",
     "output_type": "stream",
     "text": [
      "Model: \"sequential_16\"\n",
      "_________________________________________________________________\n",
      " Layer (type)                Output Shape              Param #   \n",
      "=================================================================\n",
      " embedding_1 (Embedding)     (None, 64, 15)            1605      \n",
      "                                                                 \n",
      " lstm_26 (LSTM)              (None, 64, 100)           46400     \n",
      "                                                                 \n",
      " lstm_27 (LSTM)              (None, 100)               80400     \n",
      "                                                                 \n",
      " dropout_2 (Dropout)         (None, 100)               0         \n",
      "                                                                 \n",
      " dense_12 (Dense)            (None, 106)               10706     \n",
      "                                                                 \n",
      "=================================================================\n",
      "Total params: 139,111\n",
      "Trainable params: 139,111\n",
      "Non-trainable params: 0\n",
      "_________________________________________________________________\n"
     ]
    }
   ],
   "source": [
    "model.summary()"
   ]
  },
  {
   "cell_type": "code",
   "execution_count": 258,
   "id": "0e2a1380-e927-40bd-9cfc-0284fadf4662",
   "metadata": {},
   "outputs": [
    {
     "name": "stdout",
     "output_type": "stream",
     "text": [
      "Epoch 1/100\n",
      "WARNING:tensorflow:Model was constructed with shape (None, 64) for input KerasTensor(type_spec=TensorSpec(shape=(None, 64), dtype=tf.float32, name='embedding_1_input'), name='embedding_1_input', description=\"created by layer 'embedding_1_input'\"), but it was called on an input with incompatible shape (None, 64, 106).\n"
     ]
    },
    {
     "ename": "ValueError",
     "evalue": "in user code:\n\n    File \"/home/lazydragoon/.pyenv/versions/3.8.12/envs/bach_propagation/lib/python3.8/site-packages/keras/engine/training.py\", line 878, in train_function  *\n        return step_function(self, iterator)\n    File \"/home/lazydragoon/.pyenv/versions/3.8.12/envs/bach_propagation/lib/python3.8/site-packages/keras/engine/training.py\", line 867, in step_function  **\n        outputs = model.distribute_strategy.run(run_step, args=(data,))\n    File \"/home/lazydragoon/.pyenv/versions/3.8.12/envs/bach_propagation/lib/python3.8/site-packages/keras/engine/training.py\", line 860, in run_step  **\n        outputs = model.train_step(data)\n    File \"/home/lazydragoon/.pyenv/versions/3.8.12/envs/bach_propagation/lib/python3.8/site-packages/keras/engine/training.py\", line 808, in train_step\n        y_pred = self(x, training=True)\n    File \"/home/lazydragoon/.pyenv/versions/3.8.12/envs/bach_propagation/lib/python3.8/site-packages/keras/utils/traceback_utils.py\", line 67, in error_handler\n        raise e.with_traceback(filtered_tb) from None\n    File \"/home/lazydragoon/.pyenv/versions/3.8.12/envs/bach_propagation/lib/python3.8/site-packages/keras/engine/input_spec.py\", line 213, in assert_input_compatibility\n        raise ValueError(f'Input {input_index} of layer \"{layer_name}\" '\n\n    ValueError: Exception encountered when calling layer \"sequential_16\" (type Sequential).\n    \n    Input 0 of layer \"lstm_26\" is incompatible with the layer: expected ndim=3, found ndim=4. Full shape received: (None, 64, 106, 15)\n    \n    Call arguments received:\n      • inputs=tf.Tensor(shape=(None, 64, 106), dtype=float32)\n      • training=True\n      • mask=None\n",
     "output_type": "error",
     "traceback": [
      "\u001b[0;31m---------------------------------------------------------------------------\u001b[0m",
      "\u001b[0;31mValueError\u001b[0m                                Traceback (most recent call last)",
      "\u001b[0;32m/tmp/ipykernel_9241/1315954185.py\u001b[0m in \u001b[0;36m<module>\u001b[0;34m\u001b[0m\n\u001b[1;32m      1\u001b[0m \u001b[0mes\u001b[0m \u001b[0;34m=\u001b[0m \u001b[0mcallbacks\u001b[0m\u001b[0;34m.\u001b[0m\u001b[0mEarlyStopping\u001b[0m\u001b[0;34m(\u001b[0m\u001b[0mpatience\u001b[0m\u001b[0;34m=\u001b[0m\u001b[0;36m25\u001b[0m\u001b[0;34m,\u001b[0m \u001b[0mrestore_best_weights\u001b[0m\u001b[0;34m=\u001b[0m\u001b[0;32mTrue\u001b[0m\u001b[0;34m)\u001b[0m\u001b[0;34m\u001b[0m\u001b[0;34m\u001b[0m\u001b[0m\n\u001b[1;32m      2\u001b[0m \u001b[0;34m\u001b[0m\u001b[0m\n\u001b[0;32m----> 3\u001b[0;31m \u001b[0mmodel\u001b[0m\u001b[0;34m.\u001b[0m\u001b[0mfit\u001b[0m\u001b[0;34m(\u001b[0m\u001b[0mXtrain\u001b[0m\u001b[0;34m,\u001b[0m \u001b[0mytrain\u001b[0m\u001b[0;34m,\u001b[0m \u001b[0mepochs\u001b[0m\u001b[0;34m=\u001b[0m\u001b[0;36m100\u001b[0m\u001b[0;34m,\u001b[0m \u001b[0mcallbacks\u001b[0m\u001b[0;34m=\u001b[0m\u001b[0mes\u001b[0m\u001b[0;34m,\u001b[0m \u001b[0mvalidation_data\u001b[0m\u001b[0;34m=\u001b[0m\u001b[0;34m(\u001b[0m\u001b[0mXval\u001b[0m\u001b[0;34m,\u001b[0m \u001b[0myval\u001b[0m\u001b[0;34m)\u001b[0m\u001b[0;34m)\u001b[0m\u001b[0;34m\u001b[0m\u001b[0;34m\u001b[0m\u001b[0m\n\u001b[0m",
      "\u001b[0;32m~/.pyenv/versions/3.8.12/envs/bach_propagation/lib/python3.8/site-packages/keras/utils/traceback_utils.py\u001b[0m in \u001b[0;36merror_handler\u001b[0;34m(*args, **kwargs)\u001b[0m\n\u001b[1;32m     65\u001b[0m     \u001b[0;32mexcept\u001b[0m \u001b[0mException\u001b[0m \u001b[0;32mas\u001b[0m \u001b[0me\u001b[0m\u001b[0;34m:\u001b[0m  \u001b[0;31m# pylint: disable=broad-except\u001b[0m\u001b[0;34m\u001b[0m\u001b[0;34m\u001b[0m\u001b[0m\n\u001b[1;32m     66\u001b[0m       \u001b[0mfiltered_tb\u001b[0m \u001b[0;34m=\u001b[0m \u001b[0m_process_traceback_frames\u001b[0m\u001b[0;34m(\u001b[0m\u001b[0me\u001b[0m\u001b[0;34m.\u001b[0m\u001b[0m__traceback__\u001b[0m\u001b[0;34m)\u001b[0m\u001b[0;34m\u001b[0m\u001b[0;34m\u001b[0m\u001b[0m\n\u001b[0;32m---> 67\u001b[0;31m       \u001b[0;32mraise\u001b[0m \u001b[0me\u001b[0m\u001b[0;34m.\u001b[0m\u001b[0mwith_traceback\u001b[0m\u001b[0;34m(\u001b[0m\u001b[0mfiltered_tb\u001b[0m\u001b[0;34m)\u001b[0m \u001b[0;32mfrom\u001b[0m \u001b[0;32mNone\u001b[0m\u001b[0;34m\u001b[0m\u001b[0;34m\u001b[0m\u001b[0m\n\u001b[0m\u001b[1;32m     68\u001b[0m     \u001b[0;32mfinally\u001b[0m\u001b[0;34m:\u001b[0m\u001b[0;34m\u001b[0m\u001b[0;34m\u001b[0m\u001b[0m\n\u001b[1;32m     69\u001b[0m       \u001b[0;32mdel\u001b[0m \u001b[0mfiltered_tb\u001b[0m\u001b[0;34m\u001b[0m\u001b[0;34m\u001b[0m\u001b[0m\n",
      "\u001b[0;32m~/.pyenv/versions/3.8.12/envs/bach_propagation/lib/python3.8/site-packages/tensorflow/python/framework/func_graph.py\u001b[0m in \u001b[0;36mautograph_handler\u001b[0;34m(*args, **kwargs)\u001b[0m\n\u001b[1;32m   1127\u001b[0m           \u001b[0;32mexcept\u001b[0m \u001b[0mException\u001b[0m \u001b[0;32mas\u001b[0m \u001b[0me\u001b[0m\u001b[0;34m:\u001b[0m  \u001b[0;31m# pylint:disable=broad-except\u001b[0m\u001b[0;34m\u001b[0m\u001b[0;34m\u001b[0m\u001b[0m\n\u001b[1;32m   1128\u001b[0m             \u001b[0;32mif\u001b[0m \u001b[0mhasattr\u001b[0m\u001b[0;34m(\u001b[0m\u001b[0me\u001b[0m\u001b[0;34m,\u001b[0m \u001b[0;34m\"ag_error_metadata\"\u001b[0m\u001b[0;34m)\u001b[0m\u001b[0;34m:\u001b[0m\u001b[0;34m\u001b[0m\u001b[0;34m\u001b[0m\u001b[0m\n\u001b[0;32m-> 1129\u001b[0;31m               \u001b[0;32mraise\u001b[0m \u001b[0me\u001b[0m\u001b[0;34m.\u001b[0m\u001b[0mag_error_metadata\u001b[0m\u001b[0;34m.\u001b[0m\u001b[0mto_exception\u001b[0m\u001b[0;34m(\u001b[0m\u001b[0me\u001b[0m\u001b[0;34m)\u001b[0m\u001b[0;34m\u001b[0m\u001b[0;34m\u001b[0m\u001b[0m\n\u001b[0m\u001b[1;32m   1130\u001b[0m             \u001b[0;32melse\u001b[0m\u001b[0;34m:\u001b[0m\u001b[0;34m\u001b[0m\u001b[0;34m\u001b[0m\u001b[0m\n\u001b[1;32m   1131\u001b[0m               \u001b[0;32mraise\u001b[0m\u001b[0;34m\u001b[0m\u001b[0;34m\u001b[0m\u001b[0m\n",
      "\u001b[0;31mValueError\u001b[0m: in user code:\n\n    File \"/home/lazydragoon/.pyenv/versions/3.8.12/envs/bach_propagation/lib/python3.8/site-packages/keras/engine/training.py\", line 878, in train_function  *\n        return step_function(self, iterator)\n    File \"/home/lazydragoon/.pyenv/versions/3.8.12/envs/bach_propagation/lib/python3.8/site-packages/keras/engine/training.py\", line 867, in step_function  **\n        outputs = model.distribute_strategy.run(run_step, args=(data,))\n    File \"/home/lazydragoon/.pyenv/versions/3.8.12/envs/bach_propagation/lib/python3.8/site-packages/keras/engine/training.py\", line 860, in run_step  **\n        outputs = model.train_step(data)\n    File \"/home/lazydragoon/.pyenv/versions/3.8.12/envs/bach_propagation/lib/python3.8/site-packages/keras/engine/training.py\", line 808, in train_step\n        y_pred = self(x, training=True)\n    File \"/home/lazydragoon/.pyenv/versions/3.8.12/envs/bach_propagation/lib/python3.8/site-packages/keras/utils/traceback_utils.py\", line 67, in error_handler\n        raise e.with_traceback(filtered_tb) from None\n    File \"/home/lazydragoon/.pyenv/versions/3.8.12/envs/bach_propagation/lib/python3.8/site-packages/keras/engine/input_spec.py\", line 213, in assert_input_compatibility\n        raise ValueError(f'Input {input_index} of layer \"{layer_name}\" '\n\n    ValueError: Exception encountered when calling layer \"sequential_16\" (type Sequential).\n    \n    Input 0 of layer \"lstm_26\" is incompatible with the layer: expected ndim=3, found ndim=4. Full shape received: (None, 64, 106, 15)\n    \n    Call arguments received:\n      • inputs=tf.Tensor(shape=(None, 64, 106), dtype=float32)\n      • training=True\n      • mask=None\n"
     ]
    }
   ],
   "source": [
    "es = callbacks.EarlyStopping(patience=25, restore_best_weights=True)\n",
    "\n",
    "model.fit(Xtrain, ytrain, epochs=100, callbacks=es, validation_data=(Xval, yval))"
   ]
  },
  {
   "cell_type": "code",
   "execution_count": 120,
   "id": "1d065681-737e-4402-a892-1e19ff0919ae",
   "metadata": {},
   "outputs": [
    {
     "data": {
      "text/plain": [
       "(1, 106)"
      ]
     },
     "execution_count": 120,
     "metadata": {},
     "output_type": "execute_result"
    }
   ],
   "source": [
    "model.predict(Xval[0:1]).shape"
   ]
  },
  {
   "cell_type": "code",
   "execution_count": 118,
   "id": "fc0704aa-b0a9-4ec3-ac9a-321b65bc7c5d",
   "metadata": {},
   "outputs": [
    {
     "data": {
      "text/plain": [
       "(1, 64, 106)"
      ]
     },
     "execution_count": 118,
     "metadata": {},
     "output_type": "execute_result"
    }
   ],
   "source": [
    "np.expand_dims(Xval[0],0).shape"
   ]
  },
  {
   "cell_type": "code",
   "execution_count": 125,
   "id": "963e6064-3ec6-4ac4-a4b5-a4ce18d46dee",
   "metadata": {},
   "outputs": [
    {
     "data": {
      "text/plain": [
       "(64, 106)"
      ]
     },
     "execution_count": 125,
     "metadata": {},
     "output_type": "execute_result"
    }
   ],
   "source": [
    "(Xval[0]).shape"
   ]
  },
  {
   "cell_type": "code",
   "execution_count": 235,
   "id": "21bed3b7-f774-473a-beab-1604adbe46e8",
   "metadata": {},
   "outputs": [],
   "source": [
    "def predict_next_measure(resolution, Xtest, fitted_model): \n",
    "    heights =  Xtest.shape[1]\n",
    "    steps = int(4 * 1/resolution) #resolution is the number steps per 'time', and we want a \n",
    "    Z = Xtest\n",
    "    \n",
    "    ans = np.zeros(heights)\n",
    "    for _ in range(steps):\n",
    "        \n",
    "        Z = np.expand_dims(Z, axis=0) #Xtest is a 2D array but we want 3D to comply with the model \n",
    "        y_pred = fitted_model.predict(Z)    \n",
    "        Z = Z.reshape(-1, heights)\n",
    "        \n",
    "        Z = np.vstack((Z[1:-1,:], y_pred))\n",
    "        \n",
    "        \n",
    "        ans = np.vstack((ans, y_pred))\n",
    "        \n",
    "    return ans"
   ]
  },
  {
   "cell_type": "code",
   "execution_count": 236,
   "id": "a4d5727d-7ee5-42f8-a834-c39f3cb32453",
   "metadata": {},
   "outputs": [],
   "source": [
    "ymeas = predict_next_measure(.05, Xval[0], model)"
   ]
  },
  {
   "cell_type": "code",
   "execution_count": 237,
   "id": "e22f8120-c5ee-4652-b088-6543e4e4adaa",
   "metadata": {},
   "outputs": [
    {
     "data": {
      "text/plain": [
       "array([[0.        , 0.        , 0.        , ..., 0.        , 0.        ,\n",
       "        0.        ],\n",
       "       [0.04957882, 0.10583892, 0.05265433, ..., 0.19607866, 0.03979158,\n",
       "        0.04046386],\n",
       "       [0.04958206, 0.10583898, 0.05263203, ..., 0.19603717, 0.03977844,\n",
       "        0.04044801],\n",
       "       ...,\n",
       "       [0.44893882, 0.46999538, 0.45243591, ..., 0.47050336, 0.45229143,\n",
       "        0.44923636],\n",
       "       [0.44893882, 0.46999538, 0.45243591, ..., 0.47050336, 0.45229143,\n",
       "        0.44923636],\n",
       "       [0.44893882, 0.46999538, 0.45243591, ..., 0.47050336, 0.45229143,\n",
       "        0.44923636]])"
      ]
     },
     "execution_count": 237,
     "metadata": {},
     "output_type": "execute_result"
    }
   ],
   "source": [
    "ymeas"
   ]
  },
  {
   "cell_type": "code",
   "execution_count": 238,
   "id": "ef499386-cc4e-4843-9797-09310478c386",
   "metadata": {},
   "outputs": [
    {
     "data": {
      "text/plain": [
       "114.0"
      ]
     },
     "execution_count": 238,
     "metadata": {},
     "output_type": "execute_result"
    }
   ],
   "source": [
    "Xval[0].sum()"
   ]
  },
  {
   "cell_type": "code",
   "execution_count": 239,
   "id": "6bd6a319-3448-402e-9985-43c7d47a627e",
   "metadata": {},
   "outputs": [
    {
     "data": {
      "text/plain": [
       "(81, 106)"
      ]
     },
     "execution_count": 239,
     "metadata": {},
     "output_type": "execute_result"
    }
   ],
   "source": [
    "ymeas.shape"
   ]
  },
  {
   "cell_type": "code",
   "execution_count": 240,
   "id": "95cad306-044c-4781-ab32-e7f8c42e022f",
   "metadata": {},
   "outputs": [
    {
     "data": {
      "text/plain": [
       "array([[0.        , 0.04957882, 0.04958206, ..., 0.44893882, 0.44893882,\n",
       "        0.44893882],\n",
       "       [0.        , 0.10583892, 0.10583898, ..., 0.46999538, 0.46999538,\n",
       "        0.46999538],\n",
       "       [0.        , 0.05265433, 0.05263203, ..., 0.45243591, 0.45243591,\n",
       "        0.45243591],\n",
       "       ...,\n",
       "       [0.        , 0.19607866, 0.19603717, ..., 0.47050336, 0.47050336,\n",
       "        0.47050336],\n",
       "       [0.        , 0.03979158, 0.03977844, ..., 0.45229143, 0.45229143,\n",
       "        0.45229143],\n",
       "       [0.        , 0.04046386, 0.04044801, ..., 0.44923636, 0.44923636,\n",
       "        0.44923636]])"
      ]
     },
     "execution_count": 240,
     "metadata": {},
     "output_type": "execute_result"
    }
   ],
   "source": [
    "ymeas.T"
   ]
  },
  {
   "cell_type": "code",
   "execution_count": 241,
   "id": "a9c5f385-157f-4c5b-a4b5-219735952913",
   "metadata": {},
   "outputs": [],
   "source": [
    "A  = (ymeas.T > .1).astype('int')"
   ]
  },
  {
   "cell_type": "code",
   "execution_count": 231,
   "id": "e2ffffb4-fb50-4e2a-86c5-293310f2a84c",
   "metadata": {},
   "outputs": [
    {
     "data": {
      "text/plain": [
       "array([[0, 0, 0, ..., 1, 1, 1],\n",
       "       [0, 1, 1, ..., 1, 1, 1],\n",
       "       [0, 0, 0, ..., 1, 1, 1],\n",
       "       ...,\n",
       "       [0, 1, 1, ..., 1, 1, 1],\n",
       "       [0, 0, 0, ..., 1, 1, 1],\n",
       "       [0, 0, 0, ..., 1, 1, 1]])"
      ]
     },
     "execution_count": 231,
     "metadata": {},
     "output_type": "execute_result"
    }
   ],
   "source": [
    "A"
   ]
  },
  {
   "cell_type": "code",
   "execution_count": 232,
   "id": "53c3b272-6332-4f0a-a028-71b09fac4322",
   "metadata": {},
   "outputs": [
    {
     "data": {
      "text/plain": [
       "38341"
      ]
     },
     "execution_count": 232,
     "metadata": {},
     "output_type": "execute_result"
    }
   ],
   "source": [
    "A.sum()"
   ]
  },
  {
   "cell_type": "code",
   "execution_count": 160,
   "id": "3aa088df-a55f-42e6-8a00-bb36d5e06a5c",
   "metadata": {},
   "outputs": [
    {
     "data": {
      "text/plain": [
       "256"
      ]
     },
     "execution_count": 160,
     "metadata": {},
     "output_type": "execute_result"
    }
   ],
   "source": [
    "A.sum()"
   ]
  },
  {
   "cell_type": "code",
   "execution_count": 161,
   "id": "2e1ec410-82a1-4cf3-b3e1-53f4f37c23c3",
   "metadata": {},
   "outputs": [
    {
     "data": {
      "text/plain": [
       "(106, 17)"
      ]
     },
     "execution_count": 161,
     "metadata": {},
     "output_type": "execute_result"
    }
   ],
   "source": [
    "A.shape"
   ]
  },
  {
   "cell_type": "code",
   "execution_count": 182,
   "id": "12aa0839-d7ea-4e88-adf6-ad844efa6c1b",
   "metadata": {},
   "outputs": [],
   "source": [
    "B = np.sum(A, axis=0)"
   ]
  },
  {
   "cell_type": "code",
   "execution_count": 183,
   "id": "fb3cfa48-1278-438d-b8b2-c147f3f830fb",
   "metadata": {},
   "outputs": [
    {
     "data": {
      "text/plain": [
       "array([ 0, 16, 16, 16, 16, 16, 16, 16, 16, 16, 16, 16, 16, 16, 16, 16, 16])"
      ]
     },
     "execution_count": 183,
     "metadata": {},
     "output_type": "execute_result"
    }
   ],
   "source": [
    "B"
   ]
  },
  {
   "cell_type": "code",
   "execution_count": 242,
   "id": "a834a2ad-2f83-456c-a333-7adc412d41ad",
   "metadata": {},
   "outputs": [
    {
     "data": {
      "text/plain": [
       "<matplotlib.image.AxesImage at 0x7f76049f3e50>"
      ]
     },
     "execution_count": 242,
     "metadata": {},
     "output_type": "execute_result"
    },
    {
     "data": {
      "image/png": "[encoded data removed]",
      "text/plain": [
       "<Figure size 432x288 with 1 Axes>"
      ]
     },
     "metadata": {
      "image/png": {
       "height": 251,
       "width": 212
      },
      "needs_background": "light"
     },
     "output_type": "display_data"
    }
   ],
   "source": [
    "plt.imshow(A)"
   ]
  },
  {
   "cell_type": "code",
   "execution_count": 151,
   "id": "7bee06d4-b717-43f5-adc3-424f7ad2b07e",
   "metadata": {},
   "outputs": [],
   "source": [
    "from bach_propagation.utils import matrix_to_midi, matrix_to_image, image2midi"
   ]
  },
  {
   "cell_type": "code",
   "execution_count": 148,
   "id": "497f9da4-92e3-4672-8441-1dbc71bd63ac",
   "metadata": {},
   "outputs": [],
   "source": [
    "matrix_to_midi(A, '1st_try', .25) "
   ]
  },
  {
   "cell_type": "code",
   "execution_count": 150,
   "id": "ebbaf1e0-a5e8-45b5-9a9b-ac0cead97145",
   "metadata": {},
   "outputs": [],
   "source": [
    "matrix_to_image(A, '1st_img')"
   ]
  },
  {
   "cell_type": "code",
   "execution_count": 153,
   "id": "314c22f8-cc93-4aa2-8d67-5082acb92ae2",
   "metadata": {},
   "outputs": [],
   "source": [
    "image2midi('1st_img.png', .25)"
   ]
  },
  {
   "cell_type": "code",
   "execution_count": null,
   "id": "4cfa11d2-9a22-431a-b742-ec95527a1b48",
   "metadata": {},
   "outputs": [],
   "source": []
  }
 ],
 "metadata": {
  "kernelspec": {
   "display_name": "Python 3 (ipykernel)",
   "language": "python",
   "name": "python3"
  },
  "language_info": {
   "codemirror_mode": {
    "name": "ipython",
    "version": 3
   },
   "file_extension": ".py",
   "mimetype": "text/x-python",
   "name": "python",
   "nbconvert_exporter": "python",
   "pygments_lexer": "ipython3",
   "version": "3.8.12"
  }
 },
 "nbformat": 4,
 "nbformat_minor": 5
}
